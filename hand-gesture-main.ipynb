{
 "cells": [
  {
   "attachments": {},
   "cell_type": "markdown",
   "metadata": {},
   "source": [
    "### All imports"
   ]
  },
  {
   "cell_type": "code",
   "execution_count": 4,
   "metadata": {},
   "outputs": [
    {
     "ename": "ModuleNotFoundError",
     "evalue": "No module named 'cv2'",
     "output_type": "error",
     "traceback": [
      "\u001b[1;31m---------------------------------------------------------------------------\u001b[0m",
      "\u001b[1;31mModuleNotFoundError\u001b[0m                       Traceback (most recent call last)",
      "\u001b[1;32mc:\\Users\\Mai\\OneDrive\\Documents\\GitHub\\Hand-Gesture-Recognition\\hand-gesture-main.ipynb Cell 2\u001b[0m in \u001b[0;36m2\n\u001b[0;32m      <a href='vscode-notebook-cell:/c%3A/Users/Mai/OneDrive/Documents/GitHub/Hand-Gesture-Recognition/hand-gesture-main.ipynb#W0sZmlsZQ%3D%3D?line=0'>1</a>\u001b[0m \u001b[39mfrom\u001b[39;00m \u001b[39mInput_Utils\u001b[39;00m \u001b[39mimport\u001b[39;00m input_utils\n\u001b[1;32m----> <a href='vscode-notebook-cell:/c%3A/Users/Mai/OneDrive/Documents/GitHub/Hand-Gesture-Recognition/hand-gesture-main.ipynb#W0sZmlsZQ%3D%3D?line=1'>2</a>\u001b[0m \u001b[39mfrom\u001b[39;00m \u001b[39mPreprocessing_Utils\u001b[39;00m \u001b[39mimport\u001b[39;00m preprocessing_utils\n\u001b[0;32m      <a href='vscode-notebook-cell:/c%3A/Users/Mai/OneDrive/Documents/GitHub/Hand-Gesture-Recognition/hand-gesture-main.ipynb#W0sZmlsZQ%3D%3D?line=2'>3</a>\u001b[0m \u001b[39mfrom\u001b[39;00m \u001b[39mFeature_Extraction_Utils\u001b[39;00m \u001b[39mimport\u001b[39;00m feature_extraction_utils\n\u001b[0;32m      <a href='vscode-notebook-cell:/c%3A/Users/Mai/OneDrive/Documents/GitHub/Hand-Gesture-Recognition/hand-gesture-main.ipynb#W0sZmlsZQ%3D%3D?line=3'>4</a>\u001b[0m \u001b[39mfrom\u001b[39;00m \u001b[39mClassification_Utils\u001b[39;00m \u001b[39mimport\u001b[39;00m classification_utils\n",
      "File \u001b[1;32mc:\\Users\\Mai\\OneDrive\\Documents\\GitHub\\Hand-Gesture-Recognition\\Preprocessing_Utils\\preprocessing_utils.py:10\u001b[0m\n\u001b[0;32m      1\u001b[0m \u001b[39m#!/usr/bin/env python\u001b[39;00m\n\u001b[0;32m      2\u001b[0m \u001b[39m# coding: utf-8\u001b[39;00m\n\u001b[0;32m      3\u001b[0m \n\u001b[0;32m      4\u001b[0m \u001b[39m# ### All imports\u001b[39;00m\n\u001b[0;32m      5\u001b[0m \n\u001b[0;32m      6\u001b[0m \u001b[39m# In[ ]:\u001b[39;00m\n\u001b[0;32m      9\u001b[0m \u001b[39mimport\u001b[39;00m \u001b[39mnumpy\u001b[39;00m \u001b[39mas\u001b[39;00m \u001b[39mnp\u001b[39;00m\n\u001b[1;32m---> 10\u001b[0m \u001b[39mimport\u001b[39;00m \u001b[39mcv2\u001b[39;00m \u001b[39mas\u001b[39;00m \u001b[39mcv\u001b[39;00m\n\u001b[0;32m     13\u001b[0m \u001b[39m# ### Image preprocessing\u001b[39;00m\n\u001b[0;32m     14\u001b[0m \n\u001b[0;32m     15\u001b[0m \u001b[39m# ##### resizing -> grayscale -> normalization\u001b[39;00m\n\u001b[0;32m     16\u001b[0m \n\u001b[0;32m     17\u001b[0m \u001b[39m# In[ ]:\u001b[39;00m\n\u001b[0;32m     20\u001b[0m \u001b[39mdef\u001b[39;00m \u001b[39mimage_preprocessing\u001b[39m(img_path):\n",
      "\u001b[1;31mModuleNotFoundError\u001b[0m: No module named 'cv2'"
     ]
    }
   ],
   "source": [
    "from Input_Utils import input_utils\n",
    "from Preprocessing_Utils import preprocessing_utils\n",
    "from Feature_Extraction_Utils import feature_extraction_utils\n",
    "from Classification_Utils import classification_utils"
   ]
  },
  {
   "attachments": {},
   "cell_type": "markdown",
   "metadata": {},
   "source": [
    "### Read data"
   ]
  },
  {
   "cell_type": "code",
   "execution_count": null,
   "metadata": {},
   "outputs": [],
   "source": [
    "train_images, train_labels, validation_images, validation_labels, test_images, test_labels = input_utils.input_data()"
   ]
  },
  {
   "attachments": {},
   "cell_type": "markdown",
   "metadata": {},
   "source": [
    "### Preprocessing"
   ]
  },
  {
   "cell_type": "code",
   "execution_count": null,
   "metadata": {},
   "outputs": [],
   "source": [
    "train_processed = preprocessing_utils.preprocessing(train_images)\n",
    "\n",
    "validation_processed = preprocessing_utils.preprocessing(validation_images)\n",
    "\n",
    "test_processed = preprocessing_utils.preprocessing(test_images)\n"
   ]
  },
  {
   "attachments": {},
   "cell_type": "markdown",
   "metadata": {},
   "source": [
    "### Feature Extraction"
   ]
  },
  {
   "cell_type": "code",
   "execution_count": null,
   "metadata": {},
   "outputs": [],
   "source": [
    "train_features = feature_extraction_utils.feature_extraction(train_processed)\n",
    "\n",
    "validation_features = feature_extraction_utils.feature_extraction(validation_processed)\n",
    "\n",
    "test_features = feature_extraction_utils.feature_extraction(test_processed)"
   ]
  },
  {
   "attachments": {},
   "cell_type": "markdown",
   "metadata": {},
   "source": [
    "### Classification"
   ]
  },
  {
   "cell_type": "code",
   "execution_count": null,
   "metadata": {},
   "outputs": [],
   "source": [
    "accuracy = classification_utils.classification(train_features, train_labels, validation_features, validation_labels)"
   ]
  },
  {
   "attachments": {},
   "cell_type": "markdown",
   "metadata": {},
   "source": [
    "### Testing"
   ]
  },
  {
   "cell_type": "code",
   "execution_count": null,
   "metadata": {},
   "outputs": [],
   "source": [
    "from sklearn.metrics import accuracy_score\n",
    "from pickle import load\n",
    "\n",
    "mdl = load(open('Models/SVC_Model.pkl', 'rb'))\n",
    "y_pred = mdl.predict(test_features)\n",
    "\n",
    "# Evaluate the accuracy of the model\n",
    "accuracy = accuracy_score(test_labels, y_pred)\n",
    "print(\"Accuracy: \", accuracy)"
   ]
  }
 ],
 "metadata": {
  "kernelspec": {
   "display_name": "base",
   "language": "python",
   "name": "python3"
  },
  "language_info": {
   "codemirror_mode": {
    "name": "ipython",
    "version": 3
   },
   "file_extension": ".py",
   "mimetype": "text/x-python",
   "name": "python",
   "nbconvert_exporter": "python",
   "pygments_lexer": "ipython3",
   "version": "3.10.2"
  },
  "orig_nbformat": 4
 },
 "nbformat": 4,
 "nbformat_minor": 2
}
