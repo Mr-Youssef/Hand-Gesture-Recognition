{
 "cells": [
  {
   "attachments": {},
   "cell_type": "markdown",
   "metadata": {},
   "source": [
    "### All imports"
   ]
  },
  {
   "cell_type": "code",
   "execution_count": 10,
   "metadata": {},
   "outputs": [],
   "source": [
    "from Input_Utils import input_utils\n",
    "from Preprocessing_Utils import preprocessing_utils\n",
    "from Feature_Extraction_Utils import feature_extraction_utils\n",
    "from Classification_Utils import classification_utils"
   ]
  },
  {
   "attachments": {},
   "cell_type": "markdown",
   "metadata": {},
   "source": [
    "### Read data"
   ]
  },
  {
   "cell_type": "code",
   "execution_count": 11,
   "metadata": {},
   "outputs": [
    {
     "name": "stdout",
     "output_type": "stream",
     "text": [
      "Bad file: <PIL.JpegImagePlugin.JpegImageFile image mode=RGB size=4608x2592 at 0x2005D677910>\n",
      "Bad file: <PIL.JpegImagePlugin.JpegImageFile image mode=RGB size=4608x2592 at 0x2005D677910>\n",
      "Bad file: <PIL.JpegImagePlugin.JpegImageFile image mode=RGB size=4608x2592 at 0x20057315780>\n",
      "Bad file: <PIL.JpegImagePlugin.JpegImageFile image mode=RGB size=4608x2592 at 0x20057315780>\n",
      "Bad file: <PIL.JpegImagePlugin.JpegImageFile image mode=RGB size=4608x2592 at 0x2005D677910>\n",
      "Bad file: <PIL.JpegImagePlugin.JpegImageFile image mode=RGB size=4608x2592 at 0x2005D677B80>\n",
      "Total number of images =  1821\n",
      "Number of corrupted images  =  6\n",
      "Number of images per class =  [289, 302, 312, 320, 305, 311]\n",
      "Size of training data = 1310, Size of validation data = 146, Size of testing data = 365\n",
      "Splitting is done correctly\n"
     ]
    }
   ],
   "source": [
    "train_images, train_labels, validation_images, validation_labels, test_images, test_labels = input_utils.input_data('folder', 'D:/CUFE_Courses/3-Senior1/Spring2023/CMPN450_Pattern-Recognition-&-Neural-Networks/Project/Dataset_0-5')"
   ]
  },
  {
   "attachments": {},
   "cell_type": "markdown",
   "metadata": {},
   "source": [
    "### Preprocessing"
   ]
  },
  {
   "cell_type": "code",
   "execution_count": 12,
   "metadata": {},
   "outputs": [],
   "source": [
    "train_processed = preprocessing_utils.preprocessing(train_images)\n",
    "\n",
    "validation_processed = preprocessing_utils.preprocessing(validation_images)\n",
    "\n",
    "test_processed = preprocessing_utils.preprocessing(test_images)\n"
   ]
  },
  {
   "attachments": {},
   "cell_type": "markdown",
   "metadata": {},
   "source": [
    "### Feature Extraction"
   ]
  },
  {
   "cell_type": "code",
   "execution_count": 13,
   "metadata": {},
   "outputs": [],
   "source": [
    "train_features = feature_extraction_utils.feature_extraction(train_processed, train_labels, 'train_features')\n",
    "\n",
    "validation_features = feature_extraction_utils.feature_extraction(validation_processed, validation_labels, 'validation_features')\n",
    "\n",
    "test_features = feature_extraction_utils.feature_extraction(test_processed, test_labels, 'test_features')"
   ]
  },
  {
   "attachments": {},
   "cell_type": "markdown",
   "metadata": {},
   "source": [
    "### Classification"
   ]
  },
  {
   "cell_type": "code",
   "execution_count": 14,
   "metadata": {},
   "outputs": [
    {
     "name": "stdout",
     "output_type": "stream",
     "text": [
      "Fitting 5 folds for each of 10 candidates, totalling 50 fits\n",
      "[CV] END C=6, decision_function_shape=ovr, gamma=0.1, kernel=sigmoid; total time=   0.0s\n",
      "[CV] END C=6, decision_function_shape=ovr, gamma=0.1, kernel=sigmoid; total time=   0.0s\n",
      "[CV] END C=6, decision_function_shape=ovr, gamma=0.1, kernel=sigmoid; total time=   0.0s\n",
      "[CV] END C=6, decision_function_shape=ovr, gamma=0.1, kernel=sigmoid; total time=   0.0s\n",
      "[CV] END C=6, decision_function_shape=ovr, gamma=0.1, kernel=sigmoid; total time=   0.0s\n",
      "[CV] END C=1, decision_function_shape=ovr, gamma=0.9, kernel=sigmoid; total time=   0.0s\n",
      "[CV] END C=1, decision_function_shape=ovr, gamma=0.9, kernel=sigmoid; total time=   0.0s\n",
      "[CV] END C=1, decision_function_shape=ovr, gamma=0.9, kernel=sigmoid; total time=   0.0s\n",
      "[CV] END C=1, decision_function_shape=ovr, gamma=0.9, kernel=sigmoid; total time=   0.0s\n",
      "[CV] END C=1, decision_function_shape=ovr, gamma=0.9, kernel=sigmoid; total time=   0.0s\n",
      "[CV] END C=7, decision_function_shape=ovr, gamma=0.4, kernel=poly; total time=   0.0s\n",
      "[CV] END C=7, decision_function_shape=ovr, gamma=0.4, kernel=poly; total time=   0.0s\n",
      "[CV] END C=7, decision_function_shape=ovr, gamma=0.4, kernel=poly; total time=   0.0s\n",
      "[CV] END C=7, decision_function_shape=ovr, gamma=0.4, kernel=poly; total time=   0.0s\n",
      "[CV] END C=7, decision_function_shape=ovr, gamma=0.4, kernel=poly; total time=   0.0s\n",
      "[CV] END C=5, decision_function_shape=ovr, gamma=0.1, kernel=sigmoid; total time=   0.0s\n",
      "[CV] END C=5, decision_function_shape=ovr, gamma=0.1, kernel=sigmoid; total time=   0.0s\n",
      "[CV] END C=5, decision_function_shape=ovr, gamma=0.1, kernel=sigmoid; total time=   0.0s\n",
      "[CV] END C=5, decision_function_shape=ovr, gamma=0.1, kernel=sigmoid; total time=   0.0s\n",
      "[CV] END C=5, decision_function_shape=ovr, gamma=0.1, kernel=sigmoid; total time=   0.0s\n",
      "[CV] END C=4, decision_function_shape=ovr, gamma=0.30000000000000004, kernel=sigmoid; total time=   0.0s\n",
      "[CV] END C=4, decision_function_shape=ovr, gamma=0.30000000000000004, kernel=sigmoid; total time=   0.0s\n",
      "[CV] END C=4, decision_function_shape=ovr, gamma=0.30000000000000004, kernel=sigmoid; total time=   0.0s\n",
      "[CV] END C=4, decision_function_shape=ovr, gamma=0.30000000000000004, kernel=sigmoid; total time=   0.0s\n",
      "[CV] END C=4, decision_function_shape=ovr, gamma=0.30000000000000004, kernel=sigmoid; total time=   0.0s\n",
      "[CV] END C=7, decision_function_shape=ovo, gamma=0.5, kernel=rbf; total time=   0.0s\n",
      "[CV] END C=7, decision_function_shape=ovo, gamma=0.5, kernel=rbf; total time=   0.0s\n",
      "[CV] END C=7, decision_function_shape=ovo, gamma=0.5, kernel=rbf; total time=   0.0s\n",
      "[CV] END C=7, decision_function_shape=ovo, gamma=0.5, kernel=rbf; total time=   0.0s\n",
      "[CV] END C=7, decision_function_shape=ovo, gamma=0.5, kernel=rbf; total time=   0.0s\n",
      "[CV] END C=9, decision_function_shape=ovo, gamma=0.2, kernel=sigmoid; total time=   0.0s\n",
      "[CV] END C=9, decision_function_shape=ovo, gamma=0.2, kernel=sigmoid; total time=   0.0s\n",
      "[CV] END C=9, decision_function_shape=ovo, gamma=0.2, kernel=sigmoid; total time=   0.0s\n",
      "[CV] END C=9, decision_function_shape=ovo, gamma=0.2, kernel=sigmoid; total time=   0.0s\n",
      "[CV] END C=9, decision_function_shape=ovo, gamma=0.2, kernel=sigmoid; total time=   0.0s\n",
      "[CV] END C=4, decision_function_shape=ovo, gamma=0.1, kernel=rbf; total time=   0.0s\n",
      "[CV] END C=4, decision_function_shape=ovo, gamma=0.1, kernel=rbf; total time=   0.0s\n",
      "[CV] END C=4, decision_function_shape=ovo, gamma=0.1, kernel=rbf; total time=   0.0s\n",
      "[CV] END C=4, decision_function_shape=ovo, gamma=0.1, kernel=rbf; total time=   0.0s\n",
      "[CV] END C=4, decision_function_shape=ovo, gamma=0.1, kernel=rbf; total time=   0.0s\n",
      "[CV] END C=1, decision_function_shape=ovr, gamma=0.2, kernel=poly; total time=   0.0s\n",
      "[CV] END C=1, decision_function_shape=ovr, gamma=0.2, kernel=poly; total time=   0.0s\n",
      "[CV] END C=1, decision_function_shape=ovr, gamma=0.2, kernel=poly; total time=   0.0s\n",
      "[CV] END C=1, decision_function_shape=ovr, gamma=0.2, kernel=poly; total time=   0.0s\n",
      "[CV] END C=1, decision_function_shape=ovr, gamma=0.2, kernel=poly; total time=   0.0s\n",
      "[CV] END C=4, decision_function_shape=ovr, gamma=0.1, kernel=poly; total time=   0.0s\n",
      "[CV] END C=4, decision_function_shape=ovr, gamma=0.1, kernel=poly; total time=   0.0s\n",
      "[CV] END C=4, decision_function_shape=ovr, gamma=0.1, kernel=poly; total time=   0.0s\n",
      "[CV] END C=4, decision_function_shape=ovr, gamma=0.1, kernel=poly; total time=   0.0s\n",
      "[CV] END C=4, decision_function_shape=ovr, gamma=0.1, kernel=poly; total time=   0.0s\n"
     ]
    },
    {
     "data": {
      "image/png": "[encoded data removed]",
      "text/plain": [
       "<Figure size 500x500 with 2 Axes>"
      ]
     },
     "metadata": {},
     "output_type": "display_data"
    }
   ],
   "source": [
    "accuracy = classification_utils.classification(train_features, train_labels, validation_features, validation_labels)"
   ]
  },
  {
   "attachments": {},
   "cell_type": "markdown",
   "metadata": {},
   "source": [
    "### Testing"
   ]
  },
  {
   "cell_type": "code",
   "execution_count": 15,
   "metadata": {},
   "outputs": [
    {
     "name": "stdout",
     "output_type": "stream",
     "text": [
      "Accuracy:  0.9452054794520548\n"
     ]
    }
   ],
   "source": [
    "from sklearn.metrics import accuracy_score\n",
    "from pickle import load\n",
    "\n",
    "mdl = load(open('Models/SVC_Model94.pkl', 'rb'))\n",
    "y_pred = mdl.predict(validation_features)\n",
    "\n",
    "# Evaluate the accuracy of the model\n",
    "accuracy = accuracy_score(validation_labels, y_pred)\n",
    "print(\"Accuracy: \", accuracy)"
   ]
  },
  {
   "cell_type": "code",
   "execution_count": null,
   "metadata": {},
   "outputs": [],
   "source": []
  }
 ],
 "metadata": {
  "kernelspec": {
   "display_name": "base",
   "language": "python",
   "name": "python3"
  },
  "language_info": {
   "codemirror_mode": {
    "name": "ipython",
    "version": 3
   },
   "file_extension": ".py",
   "mimetype": "text/x-python",
   "name": "python",
   "nbconvert_exporter": "python",
   "pygments_lexer": "ipython3",
   "version": "3.10.2"
  },
  "orig_nbformat": 4
 },
 "nbformat": 4,
 "nbformat_minor": 2
}
