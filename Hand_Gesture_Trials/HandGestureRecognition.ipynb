{
 "cells": [
  {
   "attachments": {},
   "cell_type": "markdown",
   "metadata": {},
   "source": [
    "# **Importing Data**"
   ]
  },
  {
   "cell_type": "code",
   "execution_count": 26,
   "metadata": {},
   "outputs": [
    {
     "name": "stdout",
     "output_type": "stream",
     "text": [
      "Bad file: <PIL.JpegImagePlugin.JpegImageFile image mode=RGB size=4608x2592 at 0x15B570E1BA0>\n",
      "Bad file: <PIL.JpegImagePlugin.JpegImageFile image mode=RGB size=4608x2592 at 0x15B570E1BA0>\n",
      "Bad file: <PIL.JpegImagePlugin.JpegImageFile image mode=RGB size=4608x2592 at 0x15B54B4F910>\n",
      "Bad file: <PIL.JpegImagePlugin.JpegImageFile image mode=RGB size=4608x2592 at 0x15B54B4F910>\n",
      "Bad file: <PIL.JpegImagePlugin.JpegImageFile image mode=RGB size=4608x2592 at 0x15B53787F10>\n",
      "Bad file: <PIL.JpegImagePlugin.JpegImageFile image mode=RGB size=4608x2592 at 0x15B56FA2590>\n",
      "Total number of images =  1821\n",
      "Number of corrupted images or desktop.ini file =  6\n",
      "Number of images per class =  [289, 302, 312, 320, 305, 311]\n"
     ]
    }
   ],
   "source": [
    "import os\n",
    "from PIL import Image, ImageFilter\n",
    "\n",
    "women_dataset = 'D:/CUFE_Courses/3-Senior1/Spring2023/CMPN450_Pattern-Recognition-&-Neural-Networks/Project/Dataset_0-5/Women'\n",
    "men_dataset = 'D:/CUFE_Courses/3-Senior1/Spring2023/CMPN450_Pattern-Recognition-&-Neural-Networks/Project/Dataset_0-5/men'\n",
    "\n",
    "images_paths = []\n",
    "# dataset_labels = []\n",
    "classes_sizes=[]\n",
    "corrupted=0\n",
    "corrupted_imgs=[]\n",
    "for i in range(6):\n",
    "  women_folder_path = os.path.join(women_dataset, str(i))\n",
    "  men_folder_path = os.path.join(men_dataset, str(i))\n",
    "  # Get the file paths in the folders\n",
    "  women_files = [os.path.join(women_folder_path, f) for f in os.listdir(women_folder_path) if os.path.isfile(os.path.join(women_folder_path, f))]\n",
    "  men_files = [os.path.join(men_folder_path, f) for f in os.listdir(men_folder_path) if os.path.isfile(os.path.join(men_folder_path, f))]\n",
    "\n",
    "  imgs = women_files + men_files\n",
    "  for img in imgs:\n",
    "    if not (img.endswith(\".JPG\") or img.endswith(\".jpg\")) and not (img.endswith(\".png\") or img.endswith(\".PNG\")):        # in case of desktop.ini file or any other file\n",
    "        continue\n",
    "\n",
    "    try:\n",
    "        temp = Image.open(img)\n",
    "    except (IOError, SyntaxError) as e:   # in case of corrupted images\n",
    "        print('Bad file:', temp)\n",
    "        corrupted+=1\n",
    "        continue \n",
    "    path = img.split('/')\n",
    "    images_paths.append(img)\n",
    "    \n",
    "    \n",
    "  classes_sizes.append(len(imgs))    \n",
    "print(\"Total number of images = \", len(images_paths))\n",
    "print(\"Number of corrupted images or desktop.ini file = \", corrupted)\n",
    "print(\"Number of images per class = \", classes_sizes)"
   ]
  },
  {
   "cell_type": "code",
   "execution_count": 27,
   "metadata": {},
   "outputs": [],
   "source": [
    "import random\n",
    "\n",
    "random.seed(7)\n",
    "random.shuffle(images_paths)\n",
    "dataset_labels = []\n",
    "for img in images_paths:\n",
    "  path=img.split('/')[-1].split('\\\\')\n",
    "  dataset_labels.append(path[1])"
   ]
  },
  {
   "attachments": {},
   "cell_type": "markdown",
   "metadata": {},
   "source": [
    "# **Splitting Data (Training 70%, Validation 10%, Testing 20%)**"
   ]
  },
  {
   "cell_type": "code",
   "execution_count": 28,
   "metadata": {},
   "outputs": [
    {
     "name": "stdout",
     "output_type": "stream",
     "text": [
      "1310 146 365\n",
      "True\n"
     ]
    }
   ],
   "source": [
    "from sklearn.model_selection import train_test_split\n",
    "\n",
    "# splitting training into 80% and testing into 20%\n",
    "train_paths, test_paths, train_labels, test_labels = train_test_split(images_paths, dataset_labels, test_size=0.2, random_state=42, stratify=dataset_labels)\n",
    "\n",
    "# splitting training into 70% and validation into 10%\n",
    "train_paths, validation_paths, train_labels, validation_labels = train_test_split(train_paths, train_labels, test_size=0.1, random_state=42, stratify=train_labels)\n",
    "\n",
    "print(len(train_paths), len(validation_paths), len(test_paths))\n",
    "\n",
    "# check\n",
    "total = len(train_paths) + len(validation_paths) + len(test_paths)\n",
    "print(total == len(images_paths))"
   ]
  },
  {
   "attachments": {},
   "cell_type": "markdown",
   "metadata": {},
   "source": [
    "# **Image Pre-processing**"
   ]
  },
  {
   "cell_type": "code",
   "execution_count": 29,
   "metadata": {},
   "outputs": [],
   "source": [
    "import numpy as np\n",
    "import cv2 as cv\n",
    "\n",
    "# Define the target size for the images\n",
    "target_size = (200, 200)\n",
    "\n",
    "def image_preprocess(img_path):\n",
    "    # Load the image\n",
    "    image = cv.imread(img_path)\n",
    "\n",
    "    # Resize the image to the target size\n",
    "    resized_img = cv.resize(image, target_size)\n",
    "\n",
    "    # Convert the resized image to grayscale\n",
    "    gray_img = cv.cvtColor(resized_img, cv.COLOR_BGR2GRAY)\n",
    "\n",
    "    # Normalize the pixel values to be between 0 and 1\n",
    "    # normalized_img  = gray_img / 255.0\n",
    "    normalized_img = (gray_img - np.min(gray_img)) * 255.0 / (np.max(gray_img) - np.min(gray_img))\n",
    "\n",
    "    return resized_img, gray_img, normalized_img    # return the original and the preprocessed images\n"
   ]
  },
  {
   "cell_type": "code",
   "execution_count": 187,
   "metadata": {},
   "outputs": [],
   "source": [
    "def shadow_remover(img):\n",
    "\n",
    "    # Convert the image to YCrCb color space\n",
    "    img_ycrcb = cv.cvtColor(img, cv.COLOR_BGR2YCrCb)\n",
    "\n",
    "    # Define the skin tone range\n",
    "    lower_skin = np.array([0, 134, 85])\n",
    "    upper_skin = np.array([255, 180, 135])\n",
    "\n",
    "    # Create a mask using the skin tone range\n",
    "    skin_mask = cv.inRange(img_ycrcb, lower_skin, upper_skin)\n",
    "\n",
    "    # Invert the mask to select non-skin pixels\n",
    "    non_skin_mask = cv.bitwise_not(skin_mask)\n",
    "\n",
    "    # Apply median blur to the non-skin pixels to remove noise\n",
    "    non_skin_mask = cv.medianBlur(non_skin_mask, 21)\n",
    "\n",
    "    # Apply the non-skin mask to the original image to select the shadowed pixels\n",
    "    shadow_mask = cv.bitwise_and(img, img, mask=non_skin_mask)\n",
    "\n",
    "    # Calculate the mean brightness of the shadowed pixels\n",
    "    mean_value = np.mean(shadow_mask)\n",
    "\n",
    "    # Calculate the brightness ratio between the shadowed pixels and the skin pixels\n",
    "    ratio = 255 / mean_value\n",
    "\n",
    "    # Apply the ratio to the skin pixels to adjust their brightness\n",
    "    skin_mask = cv.multiply(skin_mask, ratio)\n",
    "\n",
    "    # Combine the skin mask and non-skin mask to create the final mask\n",
    "    final_mask = cv.add(skin_mask, non_skin_mask)\n",
    "\n",
    "    # Apply the final mask to the original image to remove the shadows\n",
    "    img_output = cv.bitwise_and(img, img, mask=final_mask)\n",
    "\n",
    "\n",
    "    return img_output"
   ]
  },
  {
   "cell_type": "code",
   "execution_count": 30,
   "metadata": {},
   "outputs": [
    {
     "name": "stdout",
     "output_type": "stream",
     "text": [
      "Image shape after preprocessing =  (200, 200)\n"
     ]
    },
    {
     "data": {
      "image/png": "[encoded data removed]",
      "text/plain": [
       "<Figure size 640x480 with 1 Axes>"
      ]
     },
     "metadata": {},
     "output_type": "display_data"
    },
    {
     "data": {
      "text/plain": [
       "True"
      ]
     },
     "execution_count": 30,
     "metadata": {},
     "output_type": "execute_result"
    }
   ],
   "source": [
    "import matplotlib.pyplot as plt\n",
    "\n",
    "resized, gray, norm = image_preprocess(images_paths[777])\n",
    "print(\"Image shape after preprocessing = \", norm.shape)\n",
    "\n",
    "# Display the original and processed images\n",
    "# cv.imshow('Original Image', norm)\n",
    "plt.axis(\"off\")\n",
    "plt.imshow(norm, cmap='gray')\n",
    "plt.show()\n",
    "cv.imwrite(\"Preprocessed_Image.JPG\", norm)"
   ]
  },
  {
   "attachments": {},
   "cell_type": "markdown",
   "metadata": {},
   "source": [
    "# **Image Segmentation**"
   ]
  },
  {
   "cell_type": "code",
   "execution_count": 189,
   "metadata": {},
   "outputs": [
    {
     "data": {
      "text/plain": [
       "True"
      ]
     },
     "execution_count": 189,
     "metadata": {},
     "output_type": "execute_result"
    }
   ],
   "source": [
    "uint8_img = norm.astype(np.uint8)\n",
    "\n",
    "shadow_removed =shadow_remover(resized)\n",
    "cv.imwrite('shadows_out.png', shadow_removed)"
   ]
  },
  {
   "cell_type": "code",
   "execution_count": 31,
   "metadata": {},
   "outputs": [],
   "source": [
    "def image_segmentation(img):\n",
    "    # Apply Gaussian blur to remove noise (optional)\n",
    "    img = cv.GaussianBlur(img, (5, 5), 0)\n",
    "\n",
    "    # Apply Otsu's thresholding to get binary image\n",
    "    # _, thresh = cv.threshold(img, 75, 255, cv.THRESH_BINARY+cv.THRESH_OTSU)\n",
    "    # thresh = cv.adaptiveThreshold(img,255,cv.ADAPTIVE_THRESH_GAUSSIAN_C, cv.THRESH_BINARY,11,2)\n",
    "\n",
    "    hsvim = cv.cvtColor(img, cv.COLOR_BGR2HSV)\n",
    "    lower = np.array([0, 48, 80], dtype = \"uint8\")\n",
    "    upper = np.array([20, 255, 255], dtype = \"uint8\")\n",
    "    skinRegionHSV = cv.inRange(hsvim, lower, upper)\n",
    "    ret,thresh = cv.threshold(skinRegionHSV,0,255,cv.THRESH_BINARY+cv.THRESH_OTSU)\n",
    "\n",
    "    return thresh"
   ]
  },
  {
   "cell_type": "code",
   "execution_count": 32,
   "metadata": {},
   "outputs": [
    {
     "name": "stdout",
     "output_type": "stream",
     "text": [
      "Image shape after segmentation =  (200, 200)\n"
     ]
    },
    {
     "data": {
      "text/plain": [
       "True"
      ]
     },
     "execution_count": 32,
     "metadata": {},
     "output_type": "execute_result"
    }
   ],
   "source": [
    "# Convert the normalized image to uint8\n",
    "# uint8_img = cv.convertScaleAbs(norm, alpha=(255.0))\n",
    "uint8_img = norm.astype(np.uint8)\n",
    "\n",
    "segmented_img = image_segmentation(resized)\n",
    "print(\"Image shape after segmentation = \", segmented_img.shape)\n",
    "cv.imwrite(\"Segmented_Image.JPG\", segmented_img)"
   ]
  },
  {
   "attachments": {},
   "cell_type": "markdown",
   "metadata": {},
   "source": [
    "# **Morphological Operations**"
   ]
  },
  {
   "cell_type": "code",
   "execution_count": 33,
   "metadata": {},
   "outputs": [],
   "source": [
    "def morphological_operations(img):\n",
    "    # Define the kernel for morphological operations\n",
    "    kernel = np.ones((5,5),np.uint8)\n",
    "\n",
    "    # Perform dilation operation on the image\n",
    "    dilated_img = cv.dilate(img, kernel, iterations=1)\n",
    "\n",
    "    # Perform erosion operation on the image\n",
    "    eroded_img = cv.erode(img, kernel, iterations=1)\n",
    "\n",
    "    # Perform opening operation on the image\n",
    "    opening_img = cv.morphologyEx(img, cv.MORPH_OPEN, kernel)\n",
    "\n",
    "    # Perform closing operation on the image\n",
    "    closing_img = cv.morphologyEx(img, cv.MORPH_CLOSE, kernel)\n",
    "\n",
    "    return closing_img"
   ]
  },
  {
   "cell_type": "code",
   "execution_count": 34,
   "metadata": {},
   "outputs": [
    {
     "name": "stdout",
     "output_type": "stream",
     "text": [
      "Image shape after morphological operations =  (200, 200)\n"
     ]
    },
    {
     "data": {
      "text/plain": [
       "True"
      ]
     },
     "execution_count": 34,
     "metadata": {},
     "output_type": "execute_result"
    }
   ],
   "source": [
    "noise_removal = morphological_operations(segmented_img)\n",
    "print(\"Image shape after morphological operations = \", noise_removal.shape)\n",
    "cv.imwrite(\"Noise_Removal_Image.JPG\", noise_removal)\n",
    "\n",
    "# noise_removal = morphological_operations(shadow_removed)\n",
    "# print(\"Image shape after morphological operations = \", noise_removal.shape)\n",
    "# cv.imwrite(\"Noise_Removal_Image.JPG\", shadow_removed)"
   ]
  },
  {
   "cell_type": "code",
   "execution_count": 194,
   "metadata": {},
   "outputs": [],
   "source": [
    "def invert_black(img):\n",
    "    grey_img = cv.cvtColor(img, cv.COLOR_BGR2GRAY)\n",
    "\n",
    "    # Find all black pixels using boolean indexing\n",
    "    black_pixels = grey_img == 0\n",
    "\n",
    "    # Set the black pixels to white using boolean indexing\n",
    "    grey_img[black_pixels] = 255\n",
    "\n",
    "    return grey_img"
   ]
  },
  {
   "cell_type": "code",
   "execution_count": 195,
   "metadata": {},
   "outputs": [],
   "source": [
    "def Enhancing_Image(img):\n",
    "    inverted_Img = invert_black(img)\n",
    "\n",
    "    grey_img = cv.cvtColor(img, cv.COLOR_BGR2GRAY)\n",
    "    # Subtract the two images to get the shadow mask\n",
    "    shadow_mask = cv.absdiff(grey_img, inverted_Img)\n",
    "\n",
    "    # Apply a threshold to the shadow mask to create a binary mask\n",
    "    ret, binary_mask = cv.threshold(shadow_mask, 50, 255, cv.THRESH_BINARY)\n",
    "\n",
    "    # Invert the binary mask\n",
    "    binary_mask_inv = cv.bitwise_not(binary_mask)\n",
    "\n",
    "    # Apply the binary mask to the original image to remove the shadow\n",
    "    result = cv.bitwise_and(resized, resized, mask=binary_mask_inv)\n",
    "\n",
    "    segmented_img = image_segmentation(result)\n",
    "\n",
    "    return segmented_img"
   ]
  },
  {
   "cell_type": "code",
   "execution_count": 196,
   "metadata": {},
   "outputs": [
    {
     "data": {
      "text/plain": [
       "True"
      ]
     },
     "execution_count": 196,
     "metadata": {},
     "output_type": "execute_result"
    }
   ],
   "source": [
    "segmented_img = Enhancing_Image(noise_removal)\n",
    "cv.imwrite('Segmented_Image.png', segmented_img)"
   ]
  },
  {
   "attachments": {},
   "cell_type": "markdown",
   "metadata": {},
   "source": [
    "# **Skeletonize**"
   ]
  },
  {
   "cell_type": "code",
   "execution_count": 494,
   "metadata": {},
   "outputs": [],
   "source": [
    "from skimage.morphology import skeletonize\n",
    "from skimage import data\n",
    "import matplotlib.pyplot as plt\n",
    "from skimage.util import invert\n",
    "\n",
    "def skeletonize_image(img):\n",
    "    # perform skeletonization\n",
    "\n",
    "    skeleton = skeletonize(img)\n",
    "\n",
    "    # display results\n",
    "    # fig, axes = plt.subplots(nrows=1, ncols=2, figsize=(8, 4), sharex=True, sharey=True)\n",
    "\n",
    "    # ax = axes.ravel()\n",
    "\n",
    "    # ax[0].imshow(noise_removal, cmap=plt.cm.gray)\n",
    "    # ax[0].axis('off')\n",
    "    # ax[0].set_title('original', fontsize=20)\n",
    "\n",
    "    # ax[1].imshow(skeleton, cmap=plt.cm.gray)\n",
    "    # ax[1].axis('off')\n",
    "    # ax[1].set_title('skeleton', fontsize=20)\n",
    "\n",
    "    # fig.tight_layout()\n",
    "    # plt.show()\n",
    "    \n",
    "    return skeleton"
   ]
  },
  {
   "attachments": {},
   "cell_type": "markdown",
   "metadata": {},
   "source": [
    "# **Canny Edge Detection**"
   ]
  },
  {
   "cell_type": "code",
   "execution_count": 35,
   "metadata": {},
   "outputs": [],
   "source": [
    "def canny_edge_detection(img):\n",
    "    # Apply Gaussian blur to reduce noise in the image\n",
    "    img_blur = cv.GaussianBlur(img, (5,5), 0)\n",
    "\n",
    "    # Perform Canny edge detection\n",
    "    edges = cv.Canny(img_blur, 100, 200)\n",
    "\n",
    "    return edges"
   ]
  },
  {
   "cell_type": "code",
   "execution_count": 36,
   "metadata": {},
   "outputs": [
    {
     "data": {
      "text/plain": [
       "True"
      ]
     },
     "execution_count": 36,
     "metadata": {},
     "output_type": "execute_result"
    }
   ],
   "source": [
    "# edges = canny_edge_detection(noise_removal)\n",
    "# print(\"Image shape after Canny edge detection = \", edges.shape)\n",
    "# cv.imwrite(\"Edged_Image.JPG\", edges)\n",
    "\n",
    "edges = canny_edge_detection(segmented_img)\n",
    "cv.imwrite(\"Edged_Image.JPG\", edges)\n"
   ]
  },
  {
   "attachments": {},
   "cell_type": "markdown",
   "metadata": {},
   "source": [
    "# **Feature Extraction**"
   ]
  },
  {
   "cell_type": "code",
   "execution_count": 37,
   "metadata": {},
   "outputs": [],
   "source": [
    "def EOH(img):\n",
    "    # Compute the gradient magnitude and direction using Sobel operators\n",
    "    dx = cv.Sobel(img, cv.CV_32F, 1, 0)\n",
    "    dy = cv.Sobel(img, cv.CV_32F, 0, 1)\n",
    "    mag, angle = cv.cartToPolar(dx, dy, angleInDegrees=True)\n",
    "\n",
    "    # Define the number of histogram bins and range\n",
    "    hist_bins = 9\n",
    "    hist_range = (0, 180)\n",
    "\n",
    "    # Compute the histogram of gradient orientations for each cell of a 4x4 grid\n",
    "    cell_size = (img.shape[0] // 4, img.shape[1] // 4)\n",
    "    hog_descriptor = np.zeros((4, 4, hist_bins))\n",
    "    for i in range(4):\n",
    "        for j in range(4):\n",
    "            cell_mag = mag[i*cell_size[0]: (i+1)*cell_size[0], j*cell_size[1]: (j+1)*cell_size[1]]\n",
    "            cell_angle = angle[i*cell_size[0]: (i+1)*cell_size[0], j*cell_size[1]: (j+1)*cell_size[1]]\n",
    "            hist, _ = np.histogram(cell_angle, bins=hist_bins, range=hist_range, weights=cell_mag)\n",
    "            hog_descriptor[i, j] = hist\n",
    "\n",
    "    # Flatten the descriptor to obtain a feature vector for the entire image\n",
    "    hog_descriptor = hog_descriptor.flatten()\n",
    "\n",
    "    # Normalize the feature vector using L2 normalization\n",
    "    hog_descriptor /= np.linalg.norm(hog_descriptor)\n",
    "\n",
    "    return hog_descriptor"
   ]
  },
  {
   "cell_type": "code",
   "execution_count": 38,
   "metadata": {},
   "outputs": [
    {
     "name": "stdout",
     "output_type": "stream",
     "text": [
      "Features vector shape =  (144,)\n",
      "Features vector =  [0.         0.         0.         0.         0.         0.\n",
      " 0.         0.         0.         0.05091443 0.         0.04923425\n",
      " 0.         0.         0.         0.01094094 0.00864958 0.0354416\n",
      " 0.00386821 0.         0.00273524 0.01223235 0.03481387 0.03058087\n",
      " 0.42669682 0.00864958 0.12007551 0.         0.         0.02188189\n",
      " 0.0269981  0.02320925 0.         0.00273524 0.         0.\n",
      " 0.         0.         0.         0.         0.         0.\n",
      " 0.         0.         0.         0.10245658 0.         0.0683809\n",
      " 0.04281322 0.25530173 0.22778246 0.30361122 0.00864958 0.07637164\n",
      " 0.02707746 0.         0.01914665 0.         0.17406936 0.25984738\n",
      " 0.30908167 0.0345983  0.17036221 0.         0.         0.0601752\n",
      " 0.10545899 0.20114682 0.01223235 0.00820571 0.         0.\n",
      " 0.         0.         0.         0.         0.         0.\n",
      " 0.         0.         0.         0.08698375 0.         0.05470472\n",
      " 0.09322664 0.12765086 0.11262453 0.08752755 0.         0.06476702\n",
      " 0.02320925 0.00864958 0.09299803 0.08352769 0.05415491 0.05757897\n",
      " 0.02735236 0.         0.03706184 0.00386821 0.         0.02735236\n",
      " 0.04892939 0.03868208 0.         0.00273524 0.         0.\n",
      " 0.         0.         0.         0.         0.         0.\n",
      " 0.         0.         0.         0.08698375 0.         0.10120373\n",
      " 0.13603986 0.09283699 0.0295315  0.01641142 0.00864958 0.04704622\n",
      " 0.00386821 0.         0.04923425 0.08204366 0.17020115 0.10039218\n",
      " 0.04649901 0.         0.00386821 0.01160462 0.         0.10940945\n",
      " 0.28221333 0.02320925 0.         0.00273524 0.         0.01547283]\n"
     ]
    }
   ],
   "source": [
    "features = EOH(edges)\n",
    "print(\"Features vector shape = \", features.shape)\n",
    "print(\"Features vector = \", features)"
   ]
  },
  {
   "attachments": {},
   "cell_type": "markdown",
   "metadata": {},
   "source": [
    "# **HOG**"
   ]
  },
  {
   "cell_type": "code",
   "execution_count": 495,
   "metadata": {},
   "outputs": [],
   "source": [
    "from skimage.feature import hog\n",
    "\n",
    "def HOG_image(img):\n",
    "    # Define HOG parameters\n",
    "    orientations = 9\n",
    "    pixels_per_cell = (8, 8)\n",
    "    cells_per_block = (2, 2)\n",
    "    block_norm = 'L2-Hys'\n",
    "\n",
    "    # Calculate HOG features\n",
    "    hog_features = hog(img, orientations=orientations, pixels_per_cell=pixels_per_cell,\n",
    "                    cells_per_block=cells_per_block, block_norm=block_norm, visualize=False)\n",
    "\n",
    "    return hog_features\n"
   ]
  },
  {
   "cell_type": "code",
   "execution_count": 56,
   "metadata": {},
   "outputs": [
    {
     "data": {
      "image/png": "[encoded data removed]",
      "text/plain": [
       "<Figure size 640x480 with 1 Axes>"
      ]
     },
     "metadata": {},
     "output_type": "display_data"
    }
   ],
   "source": [
    "# Initialize number of histogram bins\n",
    "k = 64\n",
    "bin_width = 256 // k\n",
    "\n",
    "# Initialize histogram bins\n",
    "histogram = np.zeros(k, dtype=np.int32)\n",
    "\n",
    "# Loop over every edge pixel in Iedge\n",
    "for i in range(edges.shape[0]):\n",
    "    for j in range(edges.shape[1]):\n",
    "        # Check if the pixel is an edge pixel\n",
    "        if edges[i, j] != 0:\n",
    "            # Find corresponding gray level intensity in Igray\n",
    "            intensity = gray[i, j]\n",
    "            # Determine the bin index for the intensity\n",
    "            bin_index = intensity // bin_width\n",
    "            # Increment the count of the corresponding bin\n",
    "            histogram[bin_index] += 1\n",
    "\n",
    "# Plot the histogram\n",
    "plt.bar(range(k), histogram)\n",
    "plt.show()"
   ]
  },
  {
   "attachments": {},
   "cell_type": "markdown",
   "metadata": {},
   "source": [
    "# **Hu Moments**"
   ]
  },
  {
   "cell_type": "code",
   "execution_count": 203,
   "metadata": {},
   "outputs": [],
   "source": [
    "def hu_moments(img):\n",
    "    # Calculate Moments\n",
    "    moments = cv.moments(img)\n",
    "\n",
    "    # Calculate Hu Moments\n",
    "    huMoments = cv.HuMoments(moments)\n",
    "\n",
    "    # Convert Hu Moments to Log Scale\n",
    "    for i in range(0,7):\n",
    "        huMoments[i] = -1 * np.sign(huMoments[i]) * np.log10(abs(huMoments[i]))\n",
    "\n",
    "    return huMoments.flatten()"
   ]
  },
  {
   "cell_type": "code",
   "execution_count": 204,
   "metadata": {},
   "outputs": [
    {
     "ename": "error",
     "evalue": "OpenCV(4.7.0) D:\\a\\opencv-python\\opencv-python\\opencv\\modules\\imgproc\\src\\moments.cpp:587: error: (-5:Bad argument) Invalid image type (must be single-channel) in function 'cv::moments'\n",
     "output_type": "error",
     "traceback": [
      "\u001b[1;31m---------------------------------------------------------------------------\u001b[0m",
      "\u001b[1;31merror\u001b[0m                                     Traceback (most recent call last)",
      "Cell \u001b[1;32mIn[204], line 1\u001b[0m\n\u001b[1;32m----> 1\u001b[0m huMoments \u001b[39m=\u001b[39m hu_moments(noise_removal)\n\u001b[0;32m      2\u001b[0m \u001b[39mprint\u001b[39m(\u001b[39m\"\u001b[39m\u001b[39mHu Moments shape = \u001b[39m\u001b[39m\"\u001b[39m, huMoments\u001b[39m.\u001b[39mshape)\n\u001b[0;32m      3\u001b[0m \u001b[39mprint\u001b[39m(\u001b[39m\"\u001b[39m\u001b[39mHu Moments = \u001b[39m\u001b[39m\"\u001b[39m, huMoments)\n",
      "Cell \u001b[1;32mIn[203], line 3\u001b[0m, in \u001b[0;36mhu_moments\u001b[1;34m(img)\u001b[0m\n\u001b[0;32m      1\u001b[0m \u001b[39mdef\u001b[39;00m \u001b[39mhu_moments\u001b[39m(img):\n\u001b[0;32m      2\u001b[0m     \u001b[39m# Calculate Moments\u001b[39;00m\n\u001b[1;32m----> 3\u001b[0m     moments \u001b[39m=\u001b[39m cv\u001b[39m.\u001b[39;49mmoments(img)\n\u001b[0;32m      5\u001b[0m     \u001b[39m# Calculate Hu Moments\u001b[39;00m\n\u001b[0;32m      6\u001b[0m     huMoments \u001b[39m=\u001b[39m cv\u001b[39m.\u001b[39mHuMoments(moments)\n",
      "\u001b[1;31merror\u001b[0m: OpenCV(4.7.0) D:\\a\\opencv-python\\opencv-python\\opencv\\modules\\imgproc\\src\\moments.cpp:587: error: (-5:Bad argument) Invalid image type (must be single-channel) in function 'cv::moments'\n"
     ]
    }
   ],
   "source": [
    "huMoments = hu_moments(noise_removal)\n",
    "print(\"Hu Moments shape = \", huMoments.shape)\n",
    "print(\"Hu Moments = \", huMoments)"
   ]
  },
  {
   "attachments": {},
   "cell_type": "markdown",
   "metadata": {},
   "source": [
    "# **Angle Count**"
   ]
  },
  {
   "cell_type": "code",
   "execution_count": 448,
   "metadata": {},
   "outputs": [],
   "source": [
    "def angle_counting(gray,thresh):\n",
    "    # Apply binary thresholding to get a black and white image\n",
    "    _, thresh = cv.threshold(gray, 0, 255, cv.THRESH_BINARY_INV + cv.THRESH_OTSU)\n",
    "\n",
    "    # Find the contours in the binary image\n",
    "    contours, _ = cv.findContours(thresh, cv.RETR_TREE, cv.CHAIN_APPROX_SIMPLE)\n",
    "\n",
    "    # Get the contour with the largest area (the hand contour)\n",
    "    hand_contour = max(contours, key=cv.contourArea)\n",
    "\n",
    "    # Compute the convex hull of the hand contour\n",
    "    hull = cv.convexHull(hand_contour)\n",
    "\n",
    "    hand_contour = cv.approxPolyDP(hand_contour,0.01*cv.arcLength(hand_contour,True),True)\n",
    "\n",
    "    # Compute the defects in the convex hull\n",
    "    # defects = cv.convexityDefects(hand_contour, cv.convexHull(hand_contour, returnPoints=False))\n",
    "\n",
    "    # Initialize the angle count\n",
    "    angle_count = 0\n",
    "\n",
    "    for each in hull:\n",
    "        defects = cv.convexityDefects(hand_contour, each)\n",
    "        if not defects:\n",
    "            continue\n",
    "        # Loop over the defects and compute the angles\n",
    "        for i in range(defects.shape[0]):\n",
    "            s, e, f, d = defects[i][0]\n",
    "            start = tuple(hand_contour[s][0])\n",
    "            end = tuple(hand_contour[e][0])\n",
    "            far = tuple(hand_contour[f][0])\n",
    "            a = np.sqrt((end[0] - start[0])**2 + (end[1] - start[1])**2)\n",
    "            b = np.sqrt((far[0] - start[0])**2 + (far[1] - start[1])**2)\n",
    "            c = np.sqrt((end[0] - far[0])**2 + (end[1] - far[1])**2)\n",
    "            angle = np.arccos((b**2 + c**2 - a**2) / (2*b*c))\n",
    "            if angle < np.pi/2:\n",
    "                angle_count += 1\n",
    "\n",
    "    return angle_count"
   ]
  },
  {
   "cell_type": "code",
   "execution_count": 449,
   "metadata": {},
   "outputs": [
    {
     "name": "stdout",
     "output_type": "stream",
     "text": [
      "Angle count =  0\n"
     ]
    }
   ],
   "source": [
    "angleCount = angle_counting(gray,segmented_img)\n",
    "print(\"Angle count = \", angleCount)"
   ]
  },
  {
   "cell_type": "code",
   "execution_count": 468,
   "metadata": {},
   "outputs": [],
   "source": [
    "def fingerCount(img):\n",
    "    hsvim = cv.cvtColor(img, cv.COLOR_BGR2HSV)\n",
    "    lower = np.array([0, 48, 80], dtype = \"uint8\")\n",
    "    upper = np.array([20, 255, 255], dtype = \"uint8\")\n",
    "    skinRegionHSV = cv.inRange(hsvim, lower, upper)\n",
    "    cv.imwrite('skin_region_hsv.JPG', skinRegionHSV)\n",
    "\n",
    "    # blur = cv.GaussianBlur(skinRegionHSV, (5, 5), 0)\n",
    "    # cv.imwrite('blur.JPG', blur)\n",
    "\n",
    "    # ret,thresh = cv.threshold(blur,0,255,cv.THRESH_BINARY)\n",
    "    # cv.imwrite(\"thresh.JPG\", thresh)\n",
    "\n",
    "\n",
    "    contours, hierarchy = cv.findContours(skinRegionHSV, cv.RETR_EXTERNAL,cv.CHAIN_APPROX_NONE)\n",
    "    contours = max(contours, key=lambda x: cv.contourArea(x))\n",
    "\n",
    "    x, y, w, h = cv.boundingRect(contours)\n",
    "    cv.drawContours(img, [contours], -1, (255,255,0), 2)\n",
    "    cv.imwrite(\"contours.JPG\", img)\n",
    "    img_contour = img.copy()\n",
    "    hull = cv.convexHull(contours)\n",
    "    cv.drawContours(img, [hull], -1, (0, 255, 255), 1)\n",
    "    cv.imwrite(\"hull.JPG\", img)\n",
    "\n",
    "\n",
    "\n",
    "    hull = cv.convexHull(contours, returnPoints=False)\n",
    "    # if len(hull) != 0 :\n",
    "    #     defects = cv.convexityDefects(contours, hull)\n",
    "\n",
    "    contours = cv.approxPolyDP(contours,0.01*cv.arcLength(contours,True),True)\n",
    "\n",
    "    cnt = 0\n",
    "    for each in hull:\n",
    "        defects = cv.convexityDefects(contours, each)\n",
    "        if not defects:\n",
    "            continue\n",
    "        for i in range(defects.shape[0]):  # calculate the angle\n",
    "            s, e, f, d = defects[i][0]\n",
    "            start = tuple(contours[s][0])\n",
    "            end = tuple(contours[e][0])\n",
    "            far = tuple(contours[f][0])\n",
    "            a = np.sqrt((end[0] - start[0]) ** 2 + (end[1] - start[1]) ** 2)\n",
    "            b = np.sqrt((far[0] - start[0]) ** 2 + (far[1] - start[1]) ** 2)\n",
    "            c = np.sqrt((end[0] - far[0]) ** 2 + (end[1] - far[1]) ** 2)\n",
    "            angle = np.arccos((b ** 2 + c ** 2 - a ** 2) / (2 * b * c))  #      cosine theorem\n",
    "            if angle <= np.pi / 2:  # angle less than 90 degree, treat as fingers\n",
    "                cnt += 1\n",
    "                cv.circle(img, far, 4, [0, 0, 255], -1)\n",
    "        print(angle)\n",
    "        if cnt > 0:\n",
    "            cnt = cnt+1\n",
    "\n",
    "    return cnt"
   ]
  },
  {
   "cell_type": "code",
   "execution_count": 472,
   "metadata": {},
   "outputs": [
    {
     "name": "stdout",
     "output_type": "stream",
     "text": [
      "0\n"
     ]
    }
   ],
   "source": [
    "original_img = cv.imread(images_paths[100])\n",
    "x= fingerCount(original_img)\n",
    "print(x)"
   ]
  },
  {
   "cell_type": "code",
   "execution_count": 39,
   "metadata": {},
   "outputs": [],
   "source": [
    "train_features = []\n",
    "for img_path in train_paths:\n",
    "    resized, gray, norm = image_preprocess(img_path)\n",
    "    segmented_img = image_segmentation(resized)\n",
    "    noise_removal = morphological_operations(segmented_img)\n",
    "    edges = canny_edge_detection(noise_removal)\n",
    "    # skeleton = skeletonize_image(noise_removal)\n",
    "    features = EOH(edges)\n",
    "    # features2 = HOG_image(skeleton)\n",
    "    # features = angle_counting(gray,segmented_img)\n",
    "    train_features.append(features)\n",
    "    # train_features[1].append(features2)\n",
    "\n",
    "# train_features = []\n",
    "# for img_path in train_paths:\n",
    "#     resized, gray, norm = image_preprocess(img_path)\n",
    "#     shadow_removed =shadow_remover(resized)\n",
    "#     noise_removal = morphological_operations(shadow_removed)\n",
    "#     segmented_img = Enhancing_Image(noise_removal)\n",
    "#     edges = canny_edge_detection(segmented_img)\n",
    "#     features = EOH(edges)\n",
    "#     train_features.append(features)"
   ]
  },
  {
   "cell_type": "code",
   "execution_count": 40,
   "metadata": {},
   "outputs": [],
   "source": [
    "validation_features = []\n",
    "for img_path in validation_paths:\n",
    "    resized, gray, norm = image_preprocess(img_path)\n",
    "    segmented_img = image_segmentation(resized)\n",
    "    noise_removal = morphological_operations(segmented_img)\n",
    "    edges = canny_edge_detection(noise_removal)\n",
    "    # skeleton = skeletonize_image(noise_removal)\n",
    "    features = EOH(edges)\n",
    "    # features2 = HOG_image(skeleton)\n",
    "    validation_features.append(features)\n",
    "    # validation_features[1].append(features2)\n",
    "\n",
    "# validation_features = []\n",
    "# for img_path in validation_paths:\n",
    "#     resized, gray, norm = image_preprocess(img_path)\n",
    "#     shadow_removed =shadow_remover(resized)\n",
    "#     noise_removal = morphological_operations(shadow_removed)\n",
    "#     segmented_img = Enhancing_Image(noise_removal)\n",
    "#     edges = canny_edge_detection(segmented_img)\n",
    "#     features = EOH(edges)\n",
    "#     validation_features.append(features)"
   ]
  },
  {
   "cell_type": "code",
   "execution_count": 41,
   "metadata": {},
   "outputs": [],
   "source": [
    "test_features = []\n",
    "for img_path in test_paths:\n",
    "    resized, gray, norm = image_preprocess(img_path)\n",
    "    segmented_img = image_segmentation(resized)\n",
    "    noise_removal = morphological_operations(segmented_img)\n",
    "    edges = canny_edge_detection(noise_removal)\n",
    "    features = EOH(edges)\n",
    "    test_features.append(features)\n",
    "\n",
    "# test_features = []\n",
    "# for img_path in test_paths:\n",
    "#     resized, gray, norm = image_preprocess(img_path)\n",
    "#     shadow_removed =shadow_remover(resized)\n",
    "#     noise_removal = morphological_operations(shadow_removed)\n",
    "#     segmented_img = Enhancing_Image(noise_removal)\n",
    "#     edges = canny_edge_detection(segmented_img)\n",
    "#     features = EOH(edges)\n",
    "#     test_features.append(features)"
   ]
  },
  {
   "cell_type": "code",
   "execution_count": 225,
   "metadata": {},
   "outputs": [],
   "source": [
    "import pandas as pd\n",
    "\n",
    "train_features_pd = pd.Series(train_features)\n",
    "train_labels_pd = pd.Series(train_labels)\n",
    "train_df = pd.concat([train_features_pd, train_labels_pd], axis=1)  \n",
    "train_df.columns = ['features', 'labels']\n",
    "train_df.to_csv('Datasets/TwoFeatures/train.csv', index=False)\n",
    "\n",
    "validation_features_pd = pd.Series(validation_features)\n",
    "validation_labels_pd = pd.Series(validation_labels)\n",
    "validation_df = pd.concat([validation_features_pd, validation_labels_pd], axis=1)\n",
    "validation_df.columns = ['features', 'labels']\n",
    "validation_df.to_csv('Datasets/TwoFeatures/validation.csv', index=False)\n",
    "\n",
    "test_features_pd = pd.Series(test_features)\n",
    "test_labels_pd = pd.Series(test_labels)\n",
    "test_df = pd.concat([test_features_pd, test_labels_pd], axis=1)\n",
    "test_df.columns = ['features', 'labels']\n",
    "test_df.to_csv('Datasets/TwoFeatures/test.csv', index=False)\n"
   ]
  },
  {
   "attachments": {},
   "cell_type": "markdown",
   "metadata": {},
   "source": [
    "# **Classification**"
   ]
  },
  {
   "cell_type": "code",
   "execution_count": 173,
   "metadata": {},
   "outputs": [],
   "source": [
    "# data = pd.read_csv('Datasets/train.csv')\n",
    "\n",
    "# x = data.iloc[:, 0].values\n",
    "# y = data.iloc[:, 1].values"
   ]
  },
  {
   "cell_type": "code",
   "execution_count": 508,
   "metadata": {},
   "outputs": [
    {
     "name": "stdout",
     "output_type": "stream",
     "text": [
      "144\n",
      "20736\n"
     ]
    }
   ],
   "source": [
    "# train_features_x = [np.concatenate((train_features[0][i], train_features[1][i])) for i in range(len(train_features[0]))]\n",
    "# validation_features_x = [np.concatenate((validation_features[0][i], validation_features[1][i])) for i in range(len(validation_features[0]))]\n",
    "# test_features_x = [np.concatenate((test_features[0][i], test_features[1][i])) for i in range(len(test_features[0]))]\n",
    "# print(len(train_features[0][0]))\n",
    "# print(len(train_features[1][0]))"
   ]
  },
  {
   "cell_type": "code",
   "execution_count": 454,
   "metadata": {},
   "outputs": [
    {
     "data": {
      "text/plain": [
       "array([0.02900042, 0.        , 0.01407211, 0.00524437, 0.03316829,\n",
       "       0.05371617, 0.02345353, 0.        , 0.00663366, 0.        ,\n",
       "       0.        , 0.        , 0.        , 0.01326732, 0.0157331 ,\n",
       "       0.00703606, 0.        , 0.        , 0.05768804, 0.01483331,\n",
       "       0.05394311, 0.0157331 , 0.07960391, 0.05244368, 0.02579888,\n",
       "       0.        , 0.        , 0.00663366, 0.        , 0.06097917,\n",
       "       0.13455398, 0.16584148, 0.02097747, 0.01407211, 0.        ,\n",
       "       0.00663366, 0.04975244, 0.        , 0.00234535, 0.        ,\n",
       "       0.        , 0.0157331 , 0.12195834, 0.01483331, 0.06409626,\n",
       "       0.09255843, 0.01483331, 0.09146875, 0.08915425, 0.35490075,\n",
       "       0.25030277, 0.2720609 , 0.00741666, 0.11299765, 0.15024648,\n",
       "       0.02966662, 0.2228085 , 0.15028709, 0.33168294, 0.0493716 ,\n",
       "       0.05394311, 0.00741666, 0.11770377, 0.02622184, 0.00741666,\n",
       "       0.06097917, 0.01048874, 0.15920783, 0.10833214, 0.06566987,\n",
       "       0.        , 0.0328555 , 0.07929111, 0.        , 0.09850481,\n",
       "       0.12189296, 0.09287122, 0.01790539, 0.05159776, 0.00741666,\n",
       "       0.05360752, 0.09941754, 0.03708328, 0.19231891, 0.07993802,\n",
       "       0.29188099, 0.08825446, 0.0891234 , 0.        , 0.07019167,\n",
       "       0.11577624, 0.01483331, 0.07505128, 0.10833214, 0.18242562,\n",
       "       0.09132654, 0.1735561 , 0.00741666, 0.1467042 , 0.        ,\n",
       "       0.        , 0.        , 0.        , 0.        , 0.        ,\n",
       "       0.        , 0.        , 0.        , 0.        , 0.        ,\n",
       "       0.        , 0.        , 0.        , 0.        , 0.        ,\n",
       "       0.        , 0.        , 0.        , 0.        , 0.        ,\n",
       "       0.        , 0.        , 0.        , 0.        , 0.        ,\n",
       "       0.        , 0.01048874, 0.00741666, 0.02110817, 0.00741666,\n",
       "       0.01326732, 0.03056641, 0.03048959, 0.        , 0.        ,\n",
       "       0.        , 0.        , 0.        , 0.        , 0.        ,\n",
       "       0.        , 0.        , 0.        , 0.        ])"
      ]
     },
     "execution_count": 454,
     "metadata": {},
     "output_type": "execute_result"
    }
   ],
   "source": [
    "features\n"
   ]
  },
  {
   "cell_type": "code",
   "execution_count": 502,
   "metadata": {},
   "outputs": [
    {
     "data": {
      "text/plain": [
       "(20736,)"
      ]
     },
     "execution_count": 502,
     "metadata": {},
     "output_type": "execute_result"
    }
   ],
   "source": [
    "train_features[0].shape"
   ]
  },
  {
   "cell_type": "code",
   "execution_count": 72,
   "metadata": {},
   "outputs": [
    {
     "name": "stdout",
     "output_type": "stream",
     "text": [
      "Accuracy:  0.821917808219178\n"
     ]
    }
   ],
   "source": [
    "from sklearn.svm import SVC\n",
    "from sklearn.metrics import accuracy_score\n",
    "\n",
    "# Train the SVM model\n",
    "svm_model = SVC(kernel='poly', gamma = 1, C=3, decision_function_shape='ovr')\n",
    "svm_model.fit(train_features, train_labels)\n",
    "\n",
    "# Predict the class labels on the test set\n",
    "y_pred = svm_model.predict(validation_features)\n",
    "\n",
    "# Evaluate the accuracy of the model\n",
    "accuracy = accuracy_score(validation_labels, y_pred)\n",
    "print(\"Accuracy: \", accuracy)"
   ]
  },
  {
   "cell_type": "code",
   "execution_count": 31,
   "metadata": {},
   "outputs": [],
   "source": [
    "from pickle import dump, load\n",
    "\n",
    "dump(svm_model, open('Models/svm_model82.pkl', 'wb'))"
   ]
  },
  {
   "cell_type": "code",
   "execution_count": 58,
   "metadata": {},
   "outputs": [
    {
     "name": "stdout",
     "output_type": "stream",
     "text": [
      "Accuracy:  0.9452054794520548\n"
     ]
    }
   ],
   "source": [
    "from pickle import load\n",
    "from sklearn.metrics import accuracy_score\n",
    "mdl = load(open('../Models/SVC_MODEL94.pkl', 'rb'))\n",
    "y_pred = mdl.predict(validation_features)\n",
    "\n",
    "# Evaluate the accuracy of the model\n",
    "accuracy = accuracy_score(validation_labels, y_pred)\n",
    "print(\"Accuracy: \", accuracy)"
   ]
  },
  {
   "cell_type": "code",
   "execution_count": 61,
   "metadata": {},
   "outputs": [
    {
     "name": "stdout",
     "output_type": "stream",
     "text": [
      "Fitting 5 folds for each of 10 candidates, totalling 50 fits\n",
      "[CV] END C=4, decision_function_shape=ovr, gamma=0.30000000000000004, kernel=poly; total time=   0.1s\n",
      "[CV] END C=4, decision_function_shape=ovr, gamma=0.30000000000000004, kernel=poly; total time=   0.0s\n",
      "[CV] END C=4, decision_function_shape=ovr, gamma=0.30000000000000004, kernel=poly; total time=   0.0s\n",
      "[CV] END C=4, decision_function_shape=ovr, gamma=0.30000000000000004, kernel=poly; total time=   0.0s\n",
      "[CV] END C=4, decision_function_shape=ovr, gamma=0.30000000000000004, kernel=poly; total time=   0.0s\n",
      "[CV] END C=3, decision_function_shape=ovr, gamma=0.6, kernel=sigmoid; total time=   0.0s\n",
      "[CV] END C=3, decision_function_shape=ovr, gamma=0.6, kernel=sigmoid; total time=   0.0s\n",
      "[CV] END C=3, decision_function_shape=ovr, gamma=0.6, kernel=sigmoid; total time=   0.0s\n",
      "[CV] END C=3, decision_function_shape=ovr, gamma=0.6, kernel=sigmoid; total time=   0.0s\n",
      "[CV] END C=3, decision_function_shape=ovr, gamma=0.6, kernel=sigmoid; total time=   0.0s\n",
      "[CV] END C=1, decision_function_shape=ovr, gamma=0.6, kernel=rbf; total time=   0.1s\n",
      "[CV] END C=1, decision_function_shape=ovr, gamma=0.6, kernel=rbf; total time=   0.1s\n",
      "[CV] END C=1, decision_function_shape=ovr, gamma=0.6, kernel=rbf; total time=   0.0s\n",
      "[CV] END C=1, decision_function_shape=ovr, gamma=0.6, kernel=rbf; total time=   0.1s\n",
      "[CV] END C=1, decision_function_shape=ovr, gamma=0.6, kernel=rbf; total time=   0.1s\n",
      "[CV] END C=4, decision_function_shape=ovr, gamma=0.9, kernel=sigmoid; total time=   0.0s\n",
      "[CV] END C=4, decision_function_shape=ovr, gamma=0.9, kernel=sigmoid; total time=   0.0s\n",
      "[CV] END C=4, decision_function_shape=ovr, gamma=0.9, kernel=sigmoid; total time=   0.0s\n",
      "[CV] END C=4, decision_function_shape=ovr, gamma=0.9, kernel=sigmoid; total time=   0.0s\n",
      "[CV] END C=4, decision_function_shape=ovr, gamma=0.9, kernel=sigmoid; total time=   0.0s\n",
      "[CV] END C=9, decision_function_shape=ovr, gamma=1.0, kernel=rbf; total time=   0.1s\n",
      "[CV] END C=9, decision_function_shape=ovr, gamma=1.0, kernel=rbf; total time=   0.1s\n",
      "[CV] END C=9, decision_function_shape=ovr, gamma=1.0, kernel=rbf; total time=   0.1s\n",
      "[CV] END C=9, decision_function_shape=ovr, gamma=1.0, kernel=rbf; total time=   0.1s\n",
      "[CV] END C=9, decision_function_shape=ovr, gamma=1.0, kernel=rbf; total time=   0.1s\n",
      "[CV] END C=5, decision_function_shape=ovo, gamma=0.1, kernel=rbf; total time=   0.1s\n",
      "[CV] END C=5, decision_function_shape=ovo, gamma=0.1, kernel=rbf; total time=   0.0s\n",
      "[CV] END C=5, decision_function_shape=ovo, gamma=0.1, kernel=rbf; total time=   0.0s\n",
      "[CV] END C=5, decision_function_shape=ovo, gamma=0.1, kernel=rbf; total time=   0.0s\n",
      "[CV] END C=5, decision_function_shape=ovo, gamma=0.1, kernel=rbf; total time=   0.1s\n",
      "[CV] END C=6, decision_function_shape=ovo, gamma=1.0, kernel=sigmoid; total time=   0.0s\n",
      "[CV] END C=6, decision_function_shape=ovo, gamma=1.0, kernel=sigmoid; total time=   0.0s\n",
      "[CV] END C=6, decision_function_shape=ovo, gamma=1.0, kernel=sigmoid; total time=   0.0s\n",
      "[CV] END C=6, decision_function_shape=ovo, gamma=1.0, kernel=sigmoid; total time=   0.0s\n",
      "[CV] END C=6, decision_function_shape=ovo, gamma=1.0, kernel=sigmoid; total time=   0.0s\n",
      "[CV] END C=2, decision_function_shape=ovr, gamma=0.1, kernel=sigmoid; total time=   0.0s\n",
      "[CV] END C=2, decision_function_shape=ovr, gamma=0.1, kernel=sigmoid; total time=   0.0s\n",
      "[CV] END C=2, decision_function_shape=ovr, gamma=0.1, kernel=sigmoid; total time=   0.1s\n",
      "[CV] END C=2, decision_function_shape=ovr, gamma=0.1, kernel=sigmoid; total time=   0.0s\n",
      "[CV] END C=2, decision_function_shape=ovr, gamma=0.1, kernel=sigmoid; total time=   0.0s\n",
      "[CV] END C=5, decision_function_shape=ovo, gamma=0.6, kernel=rbf; total time=   0.0s\n",
      "[CV] END C=5, decision_function_shape=ovo, gamma=0.6, kernel=rbf; total time=   0.0s\n",
      "[CV] END C=5, decision_function_shape=ovo, gamma=0.6, kernel=rbf; total time=   0.0s\n",
      "[CV] END C=5, decision_function_shape=ovo, gamma=0.6, kernel=rbf; total time=   0.0s\n",
      "[CV] END C=5, decision_function_shape=ovo, gamma=0.6, kernel=rbf; total time=   0.0s\n",
      "[CV] END C=8, decision_function_shape=ovr, gamma=0.7000000000000001, kernel=rbf; total time=   0.1s\n",
      "[CV] END C=8, decision_function_shape=ovr, gamma=0.7000000000000001, kernel=rbf; total time=   0.1s\n",
      "[CV] END C=8, decision_function_shape=ovr, gamma=0.7000000000000001, kernel=rbf; total time=   0.1s\n",
      "[CV] END C=8, decision_function_shape=ovr, gamma=0.7000000000000001, kernel=rbf; total time=   0.0s\n",
      "[CV] END C=8, decision_function_shape=ovr, gamma=0.7000000000000001, kernel=rbf; total time=   0.1s\n",
      "Accuracy:  0.7808219178082192\n"
     ]
    }
   ],
   "source": [
    "from sklearn import svm\n",
    "from sklearn.model_selection import RandomizedSearchCV\n",
    "import sklearn\n",
    "\n",
    "parameters = {'kernel':['rbf', 'poly', 'sigmoid'], 'C':range(1, 10), 'gamma':[i * 0.1 + 0.1 for i in range(10)], 'decision_function_shape':['ovr', 'ovo']}\n",
    "svc = svm.SVC()\n",
    "clf = RandomizedSearchCV(svc, parameters, scoring='accuracy', verbose = 2, refit = True)\n",
    "# clf.scorer_ = sklearn.metrics.make_scorer(accuracy_score)\n",
    "clf.fit(train_features, train_labels)\n",
    "sorted(clf.cv_results_.keys())\n",
    "y_pred = clf.predict(validation_features)\n",
    "accuracy = accuracy_score(validation_labels, y_pred)\n",
    "print(\"Accuracy: \", accuracy)\n"
   ]
  },
  {
   "cell_type": "code",
   "execution_count": 33,
   "metadata": {},
   "outputs": [
    {
     "data": {
      "text/plain": [
       "{'kernel': 'poly', 'gamma': 1.0, 'decision_function_shape': 'ovr', 'C': 8}"
      ]
     },
     "execution_count": 33,
     "metadata": {},
     "output_type": "execute_result"
    }
   ],
   "source": [
    "clf.best_params_"
   ]
  },
  {
   "cell_type": "code",
   "execution_count": 49,
   "metadata": {},
   "outputs": [
    {
     "name": "stdout",
     "output_type": "stream",
     "text": [
      "Accuracy:  0.6232876712328768\n"
     ]
    }
   ],
   "source": [
    "from sklearn.linear_model import LogisticRegression\n",
    "\n",
    "# create a logistic regression model\n",
    "lr = LogisticRegression()\n",
    "\n",
    "# fit the model on the training data\n",
    "lr.fit(train_features, train_labels)\n",
    "\n",
    "# predict the labels of the test set\n",
    "y_pred = lr.predict(validation_features)\n",
    "\n",
    "# Evaluate the accuracy of the model\n",
    "accuracy = accuracy_score(validation_labels, y_pred)\n",
    "print(\"Accuracy: \", accuracy)\n"
   ]
  },
  {
   "cell_type": "code",
   "execution_count": 50,
   "metadata": {},
   "outputs": [
    {
     "name": "stdout",
     "output_type": "stream",
     "text": [
      "Accuracy:  0.6643835616438356\n"
     ]
    }
   ],
   "source": [
    "from sklearn.neighbors import KNeighborsClassifier\n",
    "\n",
    "# create a KNN classifier with k=3\n",
    "knn = KNeighborsClassifier(n_neighbors=10)\n",
    "\n",
    "# fit the model on the training data\n",
    "knn.fit(train_features, train_labels)\n",
    "\n",
    "# predict on the test data\n",
    "y_pred = knn.predict(validation_features)\n",
    "\n",
    "# Evaluate the accuracy of the model\n",
    "accuracy = accuracy_score(validation_labels, y_pred)\n",
    "print(\"Accuracy: \", accuracy)\n"
   ]
  },
  {
   "cell_type": "code",
   "execution_count": 51,
   "metadata": {},
   "outputs": [
    {
     "name": "stdout",
     "output_type": "stream",
     "text": [
      "Accuracy:  0.7328767123287672\n"
     ]
    }
   ],
   "source": [
    "from sklearn.ensemble import RandomForestClassifier\n",
    "\n",
    "# Create the random forest classifier object\n",
    "rfc = RandomForestClassifier(n_estimators=200, random_state=42)\n",
    "\n",
    "# Train the classifier on the training data\n",
    "rfc.fit(train_features, train_labels)\n",
    "\n",
    "# Make predictions on the testing data\n",
    "y_pred = rfc.predict(validation_features)\n",
    "\n",
    "# Evaluate the accuracy of the model\n",
    "accuracy = accuracy_score(validation_labels, y_pred)\n",
    "print(\"Accuracy: \", accuracy)\n"
   ]
  },
  {
   "cell_type": "code",
   "execution_count": 355,
   "metadata": {},
   "outputs": [
    {
     "ename": "AttributeError",
     "evalue": "'bool' object has no attribute 'all'",
     "output_type": "error",
     "traceback": [
      "\u001b[1;31m---------------------------------------------------------------------------\u001b[0m",
      "\u001b[1;31mAttributeError\u001b[0m                            Traceback (most recent call last)",
      "Cell \u001b[1;32mIn[355], line 6\u001b[0m\n\u001b[0;32m      3\u001b[0m xgb_model \u001b[39m=\u001b[39m XGBClassifier( n_estimators\u001b[39m=\u001b[39m\u001b[39m100\u001b[39m, max_depth\u001b[39m=\u001b[39m\u001b[39m3\u001b[39m, learning_rate\u001b[39m=\u001b[39m\u001b[39m0.1\u001b[39m, random_state\u001b[39m=\u001b[39m\u001b[39m42\u001b[39m)\n\u001b[0;32m      5\u001b[0m \u001b[39m# Fit model on training data\u001b[39;00m\n\u001b[1;32m----> 6\u001b[0m xgb_model\u001b[39m.\u001b[39;49mfit(train_features, train_labels)\n\u001b[0;32m      8\u001b[0m \u001b[39m# Make predictions on test data\u001b[39;00m\n\u001b[0;32m      9\u001b[0m y_pred \u001b[39m=\u001b[39m xgb_model\u001b[39m.\u001b[39mpredict(validation_features)\n",
      "File \u001b[1;32mc:\\Users\\Youssef Mohamed\\AppData\\Local\\Programs\\Python\\Python310\\lib\\site-packages\\xgboost\\core.py:620\u001b[0m, in \u001b[0;36mrequire_keyword_args.<locals>.throw_if.<locals>.inner_f\u001b[1;34m(*args, **kwargs)\u001b[0m\n\u001b[0;32m    618\u001b[0m \u001b[39mfor\u001b[39;00m k, arg \u001b[39min\u001b[39;00m \u001b[39mzip\u001b[39m(sig\u001b[39m.\u001b[39mparameters, args):\n\u001b[0;32m    619\u001b[0m     kwargs[k] \u001b[39m=\u001b[39m arg\n\u001b[1;32m--> 620\u001b[0m \u001b[39mreturn\u001b[39;00m func(\u001b[39m*\u001b[39m\u001b[39m*\u001b[39mkwargs)\n",
      "File \u001b[1;32mc:\\Users\\Youssef Mohamed\\AppData\\Local\\Programs\\Python\\Python310\\lib\\site-packages\\xgboost\\sklearn.py:1438\u001b[0m, in \u001b[0;36mXGBClassifier.fit\u001b[1;34m(self, X, y, sample_weight, base_margin, eval_set, eval_metric, early_stopping_rounds, verbose, xgb_model, sample_weight_eval_set, base_margin_eval_set, feature_weights, callbacks)\u001b[0m\n\u001b[0;32m   1434\u001b[0m     \u001b[39mself\u001b[39m\u001b[39m.\u001b[39mn_classes_ \u001b[39m=\u001b[39m \u001b[39mlen\u001b[39m(\u001b[39mself\u001b[39m\u001b[39m.\u001b[39mclasses_)\n\u001b[0;32m   1435\u001b[0m     expected_classes \u001b[39m=\u001b[39m np\u001b[39m.\u001b[39marange(\u001b[39mself\u001b[39m\u001b[39m.\u001b[39mn_classes_)\n\u001b[0;32m   1436\u001b[0m \u001b[39mif\u001b[39;00m (\n\u001b[0;32m   1437\u001b[0m     \u001b[39mself\u001b[39m\u001b[39m.\u001b[39mclasses_\u001b[39m.\u001b[39mshape \u001b[39m!=\u001b[39m expected_classes\u001b[39m.\u001b[39mshape\n\u001b[1;32m-> 1438\u001b[0m     \u001b[39mor\u001b[39;00m \u001b[39mnot\u001b[39;00m (\u001b[39mself\u001b[39;49m\u001b[39m.\u001b[39;49mclasses_ \u001b[39m==\u001b[39;49m expected_classes)\u001b[39m.\u001b[39;49mall()\n\u001b[0;32m   1439\u001b[0m ):\n\u001b[0;32m   1440\u001b[0m     \u001b[39mraise\u001b[39;00m \u001b[39mValueError\u001b[39;00m(\n\u001b[0;32m   1441\u001b[0m         \u001b[39mf\u001b[39m\u001b[39m\"\u001b[39m\u001b[39mInvalid classes inferred from unique values of `y`.  \u001b[39m\u001b[39m\"\u001b[39m\n\u001b[0;32m   1442\u001b[0m         \u001b[39mf\u001b[39m\u001b[39m\"\u001b[39m\u001b[39mExpected: \u001b[39m\u001b[39m{\u001b[39;00mexpected_classes\u001b[39m}\u001b[39;00m\u001b[39m, got \u001b[39m\u001b[39m{\u001b[39;00m\u001b[39mself\u001b[39m\u001b[39m.\u001b[39mclasses_\u001b[39m}\u001b[39;00m\u001b[39m\"\u001b[39m\n\u001b[0;32m   1443\u001b[0m     )\n\u001b[0;32m   1445\u001b[0m params \u001b[39m=\u001b[39m \u001b[39mself\u001b[39m\u001b[39m.\u001b[39mget_xgb_params()\n",
      "\u001b[1;31mAttributeError\u001b[0m: 'bool' object has no attribute 'all'"
     ]
    }
   ],
   "source": [
    "from xgboost import XGBClassifier\n",
    "# Define XGBoost classifier\n",
    "xgb_model = XGBClassifier( n_estimators=100, max_depth=3, learning_rate=0.1, random_state=42)\n",
    "\n",
    "# Fit model on training data\n",
    "xgb_model.fit(train_features, train_labels)\n",
    "\n",
    "# Make predictions on test data\n",
    "y_pred = xgb_model.predict(validation_features)\n",
    "\n",
    "# Evaluate the accuracy of the model\n",
    "accuracy = accuracy_score(validation_labels, y_pred)\n",
    "print(\"Accuracy: \", accuracy)\n"
   ]
  },
  {
   "cell_type": "code",
   "execution_count": 52,
   "metadata": {},
   "outputs": [
    {
     "name": "stderr",
     "output_type": "stream",
     "text": [
      "c:\\Users\\Youssef Mohamed\\AppData\\Local\\Programs\\Python\\Python310\\lib\\site-packages\\sklearn\\ensemble\\_base.py:166: FutureWarning: `base_estimator` was renamed to `estimator` in version 1.2 and will be removed in 1.4.\n",
      "  warnings.warn(\n"
     ]
    },
    {
     "name": "stdout",
     "output_type": "stream",
     "text": [
      "Accuracy:  0.4589041095890411\n"
     ]
    }
   ],
   "source": [
    "from sklearn.ensemble import AdaBoostClassifier\n",
    "\n",
    "# Create the weak learners\n",
    "clf1 = SVC(kernel='rbf', C=1.0, decision_function_shape='ovr')\n",
    "clf2 = KNeighborsClassifier(n_neighbors=10)\n",
    "clf3 = LogisticRegression()\n",
    "\n",
    "# Create the AdaBoost classifier\n",
    "clf_ada = AdaBoostClassifier(base_estimator=clf3, n_estimators=100, learning_rate=0.01, algorithm='SAMME' )\n",
    "\n",
    "# Fit the AdaBoost classifier\n",
    "clf_ada.fit(train_features, train_labels)\n",
    "\n",
    "# Predict on the test set\n",
    "y_pred = clf_ada.predict(validation_features)\n",
    "\n",
    "# Evaluate the accuracy of the model\n",
    "accuracy = accuracy_score(validation_labels, y_pred)\n",
    "print(\"Accuracy: \", accuracy)"
   ]
  },
  {
   "cell_type": "code",
   "execution_count": null,
   "metadata": {},
   "outputs": [],
   "source": [
    "def adaboost_classifier(Y_train, X_train, Y_test, X_test, T, clf):\n",
    "    \n",
    "    #TODO: FILL THE FUNCTION with the implementation as the steps above\n",
    "\n",
    "    # TODO [1]: Initialize weights\n",
    "    #### Hint: use np.ones to initialize the weights\n",
    "\n",
    "    n_train = X_train.shape[0]\n",
    "    weights = np.ones(n_train) / n_train\n",
    "\n",
    "    ## TODO [2]:  Initialize the training and test data with empty array placeholders\n",
    "    #### Hint: what should be their shape?\n",
    "    #Initialize the training and test data with empty array placeholders\n",
    "    pred_train = np.zeros(len(Y_train))\n",
    "    pred_test = np.zeros(len(Y_test))\n",
    "    \n",
    "\n",
    "    ## TODO [3]: loop over the boosting iterations \n",
    "    for i in range(T): \n",
    "\n",
    "        # TODO [4]: Fit a classifier with the specific weights \n",
    "        clf.fit(X_train, Y_train, sample_weight=weights)\n",
    "        ## TODO [4.A]: fit the classifier on the training data\n",
    "        #### Hint: search how sklearn.tree.DecisionTreeClassifier fits classifier on data\n",
    "        ### Hint: search for parameter weights in the fit matrix\n",
    "       \n",
    "        # TODO [4.B]: predict classes for the training data and test data\n",
    "        # predict classes for the training data and test data\n",
    "        # Hint: search for the predict function in sklearn.tree.DecisionTreeClassifier\n",
    "\n",
    "        pred_train_i = clf.predict(X_train)\n",
    "        pred_test_i = clf.predict(X_test)\n",
    "        \n",
    "        # TODO [5]: calculate the miss Indicator function\n",
    "        #calculate the miss Indicator function\n",
    "        miss = (pred_train_i != Y_train)\n",
    "        # TODO [6]: calculate the error for the current classifier (err_t)\n",
    "        err_t = np.sum(weights[miss]) / sum(weights)\n",
    "        \n",
    "        # TODO [7]: calculate current classifier weight (Alpha_t)\n",
    "        alpha_t = np.log((1 - err_t) / float(err_t))\n",
    "        \n",
    "        # TODO [8]: update the weights \n",
    "        weights = np.multiply( weights , np.exp(alpha_t * miss))\n",
    "        weights = weights / sum(weights)\n",
    "        # TODO [9] Add to the overall predictions\n",
    "        pred_train += alpha_t * pred_train_i\n",
    "        pred_test += alpha_t * pred_test_i\n",
    "        \n",
    "    # TODO [10]: Return error rate in train and test set\n",
    "    #### Hint: use function get_accuracy from utils.py\n",
    "    train_error = utils.get_accuracy(np.sign(pred_train), Y_train)\n",
    "    test_error = utils.get_accuracy(np.sign(pred_test), Y_test)\n",
    "    return train_error, test_error"
   ]
  },
  {
   "cell_type": "code",
   "execution_count": null,
   "metadata": {},
   "outputs": [],
   "source": [
    "import numpy as np\n",
    "from keras.models import Sequential\n",
    "from keras.layers import Dense\n",
    "\n",
    "# Define the neural network architecture\n",
    "model = Sequential()\n",
    "model.add(Dense(x.shape[1], activation='relu'))\n",
    "model.add(Dense(1, activation='sigmoid'))\n",
    "\n",
    "# Compile the model with binary crossentropy loss and adam optimizer\n",
    "model.compile(loss='binary_crossentropy', optimizer='adam', metrics=['accuracy'])\n",
    "\n",
    "# Train the model on the training data\n",
    "model.fit(x, y, epochs=50, batch_size=32, validation_split=0.2)\n",
    "\n",
    "# Evaluate the model on the test data\n",
    "score = model.evaluate(validation_features, validation_labels, batch_size=32)\n",
    "print('Test loss:', score[0])\n",
    "print('Test accuracy:', score[1])\n"
   ]
  },
  {
   "attachments": {},
   "cell_type": "markdown",
   "metadata": {},
   "source": [
    "# **Confusion Matrix**"
   ]
  },
  {
   "cell_type": "code",
   "execution_count": 59,
   "metadata": {},
   "outputs": [
    {
     "name": "stdout",
     "output_type": "stream",
     "text": [
      "[[23  0  0  0  0  0]\n",
      " [ 0 24  0  0  0  0]\n",
      " [ 0  0 22  2  0  1]\n",
      " [ 0  0  1 23  1  0]\n",
      " [ 0  0  0  2 21  1]\n",
      " [ 0  0  0  0  0 25]]\n"
     ]
    }
   ],
   "source": [
    "from sklearn.metrics import confusion_matrix\n",
    "\n",
    "# y_true contains the true labels of the test data\n",
    "# y_pred contains the predicted labels of the test data\n",
    "# classes contains the names of the classes\n",
    "classes = ['0', '1', '2', '3', '4', '5']\n",
    "cm = confusion_matrix(validation_labels, y_pred, labels=classes)\n",
    "\n",
    "# Print the confusion matrix\n",
    "print(cm)\n"
   ]
  },
  {
   "cell_type": "code",
   "execution_count": 60,
   "metadata": {},
   "outputs": [
    {
     "data": {
      "image/png": "[encoded data removed]",
      "text/plain": [
       "<Figure size 500x500 with 2 Axes>"
      ]
     },
     "metadata": {},
     "output_type": "display_data"
    }
   ],
   "source": [
    "# normalize the confusion matrix\n",
    "conf_matrix = cm.astype('float') / cm.sum(axis=1)[:, np.newaxis]\n",
    "\n",
    "# plot the confusion matrix\n",
    "fig, ax = plt.subplots(figsize=(5,5))\n",
    "im = ax.imshow(conf_matrix, cmap='Blues')\n",
    "\n",
    "# set the axis labels\n",
    "ax.set_xticks(np.arange(len(classes)))\n",
    "ax.set_yticks(np.arange(len(classes)))\n",
    "ax.set_xticklabels(classes, fontsize=12)\n",
    "ax.set_yticklabels(classes, fontsize=12)\n",
    "\n",
    "# rotate the x-axis labels\n",
    "plt.setp(ax.get_xticklabels(), rotation=45, ha=\"right\",\n",
    "         rotation_mode=\"anchor\")\n",
    "\n",
    "# set the text labels in each cell\n",
    "for i in range(len(classes)):\n",
    "    for j in range(len(classes)):\n",
    "        text = ax.text(j, i, format(conf_matrix[i, j], '.2f'),\n",
    "                       ha=\"center\", va=\"center\", color=\"white\")\n",
    "\n",
    "# set the plot title and show the color bar\n",
    "ax.set_title(\"Confusion Matrix\", fontsize=16)\n",
    "plt.colorbar(im)\n",
    "\n",
    "# display the plot\n",
    "plt.show()"
   ]
  },
  {
   "cell_type": "code",
   "execution_count": null,
   "metadata": {},
   "outputs": [],
   "source": []
  }
 ],
 "metadata": {
  "kernelspec": {
   "display_name": "Python 3",
   "language": "python",
   "name": "python3"
  },
  "language_info": {
   "codemirror_mode": {
    "name": "ipython",
    "version": 3
   },
   "file_extension": ".py",
   "mimetype": "text/x-python",
   "name": "python",
   "nbconvert_exporter": "python",
   "pygments_lexer": "ipython3",
   "version": "3.10.2"
  },
  "orig_nbformat": 4
 },
 "nbformat": 4,
 "nbformat_minor": 2
}
