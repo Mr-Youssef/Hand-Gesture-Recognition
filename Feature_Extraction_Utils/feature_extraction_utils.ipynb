{
 "cells": [
  {
   "attachments": {},
   "cell_type": "markdown",
   "metadata": {},
   "source": [
    "### All Imports"
   ]
  },
  {
   "cell_type": "code",
   "execution_count": null,
   "metadata": {},
   "outputs": [],
   "source": [
    "import numpy as np\n",
    "import cv2 as cv\n",
    "import pandas as pd"
   ]
  },
  {
   "attachments": {},
   "cell_type": "markdown",
   "metadata": {},
   "source": [
    "### Edge Of Oriented Histogram"
   ]
  },
  {
   "cell_type": "code",
   "execution_count": null,
   "metadata": {},
   "outputs": [],
   "source": [
    "def EOH(img):\n",
    "    # Compute the gradient magnitude and direction using Sobel operators\n",
    "    dx = cv.Sobel(img, cv.CV_32F, 1, 0)\n",
    "    dy = cv.Sobel(img, cv.CV_32F, 0, 1)\n",
    "    mag, angle = cv.cartToPolar(dx, dy, angleInDegrees=True)\n",
    "\n",
    "    # Define the number of histogram bins and range\n",
    "    hist_bins = 9\n",
    "    hist_range = (0, 180)\n",
    "\n",
    "    # Compute the histogram of gradient orientations for each cell of a 4x4 grid\n",
    "    cell_size = (img.shape[0] // 4, img.shape[1] // 4)\n",
    "    hog_descriptor = np.zeros((4, 4, hist_bins))\n",
    "    for i in range(4):\n",
    "        for j in range(4):\n",
    "            cell_mag = mag[i*cell_size[0]: (i+1)*cell_size[0], j*cell_size[1]: (j+1)*cell_size[1]]\n",
    "            cell_angle = angle[i*cell_size[0]: (i+1)*cell_size[0], j*cell_size[1]: (j+1)*cell_size[1]]\n",
    "            hist, _ = np.histogram(cell_angle, bins=hist_bins, range=hist_range, weights=cell_mag)\n",
    "            hog_descriptor[i, j] = hist\n",
    "\n",
    "    # Flatten the descriptor to obtain a feature vector for the entire image\n",
    "    hog_descriptor = hog_descriptor.flatten()\n",
    "\n",
    "    # Normalize the feature vector using L2 normalization\n",
    "    hog_descriptor /= np.linalg.norm(hog_descriptor)\n",
    "\n",
    "    return hog_descriptor"
   ]
  },
  {
   "cell_type": "code",
   "execution_count": null,
   "metadata": {},
   "outputs": [],
   "source": [
    "def saving_csv(features, labels, name):\n",
    "    features_pd = pd.Series(features)\n",
    "    labels_pd = pd.Series(labels)\n",
    "    data_df = pd.concat([features_pd, labels_pd], axis=1)  \n",
    "    data_df.columns = ['features', 'labels']\n",
    "    data_df.to_csv(f'Datasets/TwoFeatures/{name}.csv', index=False)\n"
   ]
  },
  {
   "cell_type": "code",
   "execution_count": null,
   "metadata": {},
   "outputs": [],
   "source": [
    "def feature_extraction(imgs_edges, labels, name):\n",
    "    all_features = []\n",
    "    for edge in imgs_edges:\n",
    "        features= EOH(edge)\n",
    "        all_features.append(features)\n",
    "    saving_csv(all_features, labels, name)\n",
    "    return all_features"
   ]
  },
  {
   "cell_type": "code",
   "execution_count": 6,
   "metadata": {},
   "outputs": [],
   "source": [
    "def create_py():\n",
    "    !jupyter nbconvert --to script feature_extraction_utils.ipynb"
   ]
  },
  {
   "cell_type": "code",
   "execution_count": 7,
   "metadata": {},
   "outputs": [
    {
     "name": "stderr",
     "output_type": "stream",
     "text": [
      "[NbConvertApp] Converting notebook feature_extraction_utils.ipynb to script\n",
      "[NbConvertApp] Writing 2071 bytes to feature_extraction_utils.py\n"
     ]
    }
   ],
   "source": [
    "if __name__ == '__main__':\n",
    "    create_py()"
   ]
  },
  {
   "cell_type": "code",
   "execution_count": null,
   "metadata": {},
   "outputs": [],
   "source": []
  }
 ],
 "metadata": {
  "kernelspec": {
   "display_name": "base",
   "language": "python",
   "name": "python3"
  },
  "language_info": {
   "codemirror_mode": {
    "name": "ipython",
    "version": 3
   },
   "file_extension": ".py",
   "mimetype": "text/x-python",
   "name": "python",
   "nbconvert_exporter": "python",
   "pygments_lexer": "ipython3",
   "version": "3.9.12"
  },
  "orig_nbformat": 4
 },
 "nbformat": 4,
 "nbformat_minor": 2
}
