{
 "cells": [
  {
   "attachments": {},
   "cell_type": "markdown",
   "metadata": {},
   "source": [
    "### All imports"
   ]
  },
  {
   "cell_type": "code",
   "execution_count": 1,
   "metadata": {},
   "outputs": [
    {
     "name": "stdout",
     "output_type": "stream",
     "text": [
      "Requirement already satisfied: gdown in c:\\users\\youssef mohamed\\appdata\\local\\programs\\python\\python310\\lib\\site-packages (4.7.1)\n",
      "Requirement already satisfied: filelock in c:\\users\\youssef mohamed\\appdata\\local\\programs\\python\\python310\\lib\\site-packages (from gdown) (3.12.0)\n",
      "Requirement already satisfied: requests[socks] in c:\\users\\youssef mohamed\\appdata\\local\\programs\\python\\python310\\lib\\site-packages (from gdown) (2.28.1)\n",
      "Requirement already satisfied: six in c:\\users\\youssef mohamed\\appdata\\local\\programs\\python\\python310\\lib\\site-packages (from gdown) (1.16.0)\n",
      "Requirement already satisfied: tqdm in c:\\users\\youssef mohamed\\appdata\\local\\programs\\python\\python310\\lib\\site-packages (from gdown) (4.65.0)\n",
      "Requirement already satisfied: beautifulsoup4 in c:\\users\\youssef mohamed\\appdata\\local\\programs\\python\\python310\\lib\\site-packages (from gdown) (4.12.2)\n",
      "Requirement already satisfied: soupsieve>1.2 in c:\\users\\youssef mohamed\\appdata\\local\\programs\\python\\python310\\lib\\site-packages (from beautifulsoup4->gdown) (2.4.1)\n",
      "Requirement already satisfied: charset-normalizer<3,>=2 in c:\\users\\youssef mohamed\\appdata\\local\\programs\\python\\python310\\lib\\site-packages (from requests[socks]->gdown) (2.1.1)\n",
      "Requirement already satisfied: idna<4,>=2.5 in c:\\users\\youssef mohamed\\appdata\\local\\programs\\python\\python310\\lib\\site-packages (from requests[socks]->gdown) (3.4)\n",
      "Requirement already satisfied: urllib3<1.27,>=1.21.1 in c:\\users\\youssef mohamed\\appdata\\local\\programs\\python\\python310\\lib\\site-packages (from requests[socks]->gdown) (1.26.12)\n",
      "Requirement already satisfied: certifi>=2017.4.17 in c:\\users\\youssef mohamed\\appdata\\local\\programs\\python\\python310\\lib\\site-packages (from requests[socks]->gdown) (2022.9.24)\n",
      "Requirement already satisfied: PySocks!=1.5.7,>=1.5.6 in c:\\users\\youssef mohamed\\appdata\\local\\programs\\python\\python310\\lib\\site-packages (from requests[socks]->gdown) (1.7.1)\n",
      "Requirement already satisfied: colorama in c:\\users\\youssef mohamed\\appdata\\local\\programs\\python\\python310\\lib\\site-packages (from tqdm->gdown) (0.4.4)\n"
     ]
    }
   ],
   "source": [
    "from Input_Utils import input_utils\n",
    "from Preprocessing_Utils import preprocessing_utils\n",
    "from Feature_Extraction_Utils import feature_extraction_utils\n",
    "from Classification_Utils import classification_utils"
   ]
  },
  {
   "attachments": {},
   "cell_type": "markdown",
   "metadata": {},
   "source": [
    "### Read data"
   ]
  },
  {
   "cell_type": "code",
   "execution_count": 2,
   "metadata": {},
   "outputs": [
    {
     "name": "stdout",
     "output_type": "stream",
     "text": [
      "Bad file: <PIL.JpegImagePlugin.JpegImageFile image mode=RGB size=4608x2592 at 0x256A5777F40>\n",
      "Bad file: <PIL.JpegImagePlugin.JpegImageFile image mode=RGB size=4608x2592 at 0x256A5777F40>\n",
      "Bad file: <PIL.JpegImagePlugin.JpegImageFile image mode=RGB size=4608x2592 at 0x256A57A3F10>\n",
      "Bad file: <PIL.JpegImagePlugin.JpegImageFile image mode=RGB size=4608x2592 at 0x256A57A3F10>\n",
      "Bad file: <PIL.JpegImagePlugin.JpegImageFile image mode=RGB size=4608x2592 at 0x256A5767F70>\n",
      "Bad file: <PIL.JpegImagePlugin.JpegImageFile image mode=RGB size=4608x2592 at 0x256A5797D90>\n",
      "Total number of images =  1821\n",
      "Number of corrupted images  =  6\n",
      "Number of images per class =  [289, 302, 312, 320, 305, 311]\n",
      "Size of training data = 1310, Size of validation data = 146, Size of testing data = 365\n",
      "Splitting is done correctly\n"
     ]
    }
   ],
   "source": [
    "train_images, train_labels, validation_images, validation_labels, test_images, test_labels = input_utils.input_data('folder', 'D:/CUFE_Courses/3-Senior1/Spring2023/CMPN450_Pattern-Recognition-&-Neural-Networks/Project/Dataset_0-5')"
   ]
  },
  {
   "attachments": {},
   "cell_type": "markdown",
   "metadata": {},
   "source": [
    "### Preprocessing"
   ]
  },
  {
   "cell_type": "code",
   "execution_count": 3,
   "metadata": {},
   "outputs": [],
   "source": [
    "train_processed = preprocessing_utils.preprocessing(train_images)\n",
    "\n",
    "validation_processed = preprocessing_utils.preprocessing(validation_images)\n",
    "\n",
    "test_processed = preprocessing_utils.preprocessing(test_images)\n"
   ]
  },
  {
   "attachments": {},
   "cell_type": "markdown",
   "metadata": {},
   "source": [
    "### Feature Extraction"
   ]
  },
  {
   "cell_type": "code",
   "execution_count": 18,
   "metadata": {},
   "outputs": [],
   "source": [
    "train_features = feature_extraction_utils.feature_extraction(train_processed[0], train_labels, 'train_features')\n",
    "\n",
    "validation_features = feature_extraction_utils.feature_extraction(validation_processed[0], validation_labels, 'validation_features')\n",
    "\n",
    "test_features = feature_extraction_utils.feature_extraction(test_processed[0], test_labels, 'test_features')"
   ]
  },
  {
   "attachments": {},
   "cell_type": "markdown",
   "metadata": {},
   "source": [
    "### Classification"
   ]
  },
  {
   "cell_type": "code",
   "execution_count": 21,
   "metadata": {},
   "outputs": [
    {
     "name": "stdout",
     "output_type": "stream",
     "text": [
      "Fitting 5 folds for each of 10 candidates, totalling 50 fits\n",
      "[CV] END C=7, decision_function_shape=ovr, gamma=0.8, kernel=poly; total time=   0.0s\n",
      "[CV] END C=7, decision_function_shape=ovr, gamma=0.8, kernel=poly; total time=   0.0s\n",
      "[CV] END C=7, decision_function_shape=ovr, gamma=0.8, kernel=poly; total time=   0.0s\n",
      "[CV] END C=7, decision_function_shape=ovr, gamma=0.8, kernel=poly; total time=   0.0s\n",
      "[CV] END C=7, decision_function_shape=ovr, gamma=0.8, kernel=poly; total time=   0.0s\n",
      "[CV] END C=6, decision_function_shape=ovr, gamma=0.7000000000000001, kernel=poly; total time=   0.0s\n",
      "[CV] END C=6, decision_function_shape=ovr, gamma=0.7000000000000001, kernel=poly; total time=   0.0s\n",
      "[CV] END C=6, decision_function_shape=ovr, gamma=0.7000000000000001, kernel=poly; total time=   0.0s\n",
      "[CV] END C=6, decision_function_shape=ovr, gamma=0.7000000000000001, kernel=poly; total time=   0.0s\n",
      "[CV] END C=6, decision_function_shape=ovr, gamma=0.7000000000000001, kernel=poly; total time=   0.0s\n",
      "[CV] END C=4, decision_function_shape=ovo, gamma=0.8, kernel=poly; total time=   0.0s\n",
      "[CV] END C=4, decision_function_shape=ovo, gamma=0.8, kernel=poly; total time=   0.0s\n",
      "[CV] END C=4, decision_function_shape=ovo, gamma=0.8, kernel=poly; total time=   0.0s\n",
      "[CV] END C=4, decision_function_shape=ovo, gamma=0.8, kernel=poly; total time=   0.0s\n",
      "[CV] END C=4, decision_function_shape=ovo, gamma=0.8, kernel=poly; total time=   0.0s\n",
      "[CV] END C=7, decision_function_shape=ovo, gamma=0.2, kernel=poly; total time=   0.0s\n",
      "[CV] END C=7, decision_function_shape=ovo, gamma=0.2, kernel=poly; total time=   0.0s\n",
      "[CV] END C=7, decision_function_shape=ovo, gamma=0.2, kernel=poly; total time=   0.1s\n",
      "[CV] END C=7, decision_function_shape=ovo, gamma=0.2, kernel=poly; total time=   0.1s\n",
      "[CV] END C=7, decision_function_shape=ovo, gamma=0.2, kernel=poly; total time=   0.1s\n",
      "[CV] END C=5, decision_function_shape=ovr, gamma=0.5, kernel=rbf; total time=   0.0s\n",
      "[CV] END C=5, decision_function_shape=ovr, gamma=0.5, kernel=rbf; total time=   0.1s\n",
      "[CV] END C=5, decision_function_shape=ovr, gamma=0.5, kernel=rbf; total time=   0.0s\n",
      "[CV] END C=5, decision_function_shape=ovr, gamma=0.5, kernel=rbf; total time=   0.1s\n",
      "[CV] END C=5, decision_function_shape=ovr, gamma=0.5, kernel=rbf; total time=   0.1s\n",
      "[CV] END C=9, decision_function_shape=ovr, gamma=0.5, kernel=sigmoid; total time=   0.0s\n",
      "[CV] END C=9, decision_function_shape=ovr, gamma=0.5, kernel=sigmoid; total time=   0.0s\n",
      "[CV] END C=9, decision_function_shape=ovr, gamma=0.5, kernel=sigmoid; total time=   0.0s\n",
      "[CV] END C=9, decision_function_shape=ovr, gamma=0.5, kernel=sigmoid; total time=   0.0s\n",
      "[CV] END C=9, decision_function_shape=ovr, gamma=0.5, kernel=sigmoid; total time=   0.0s\n",
      "[CV] END C=8, decision_function_shape=ovo, gamma=0.1, kernel=rbf; total time=   0.0s\n",
      "[CV] END C=8, decision_function_shape=ovo, gamma=0.1, kernel=rbf; total time=   0.0s\n",
      "[CV] END C=8, decision_function_shape=ovo, gamma=0.1, kernel=rbf; total time=   0.0s\n",
      "[CV] END C=8, decision_function_shape=ovo, gamma=0.1, kernel=rbf; total time=   0.0s\n",
      "[CV] END C=8, decision_function_shape=ovo, gamma=0.1, kernel=rbf; total time=   0.0s\n",
      "[CV] END C=7, decision_function_shape=ovr, gamma=0.4, kernel=sigmoid; total time=   0.0s\n",
      "[CV] END C=7, decision_function_shape=ovr, gamma=0.4, kernel=sigmoid; total time=   0.0s\n",
      "[CV] END C=7, decision_function_shape=ovr, gamma=0.4, kernel=sigmoid; total time=   0.0s\n",
      "[CV] END C=7, decision_function_shape=ovr, gamma=0.4, kernel=sigmoid; total time=   0.0s\n",
      "[CV] END C=7, decision_function_shape=ovr, gamma=0.4, kernel=sigmoid; total time=   0.0s\n",
      "[CV] END C=5, decision_function_shape=ovo, gamma=0.8, kernel=sigmoid; total time=   0.0s\n",
      "[CV] END C=5, decision_function_shape=ovo, gamma=0.8, kernel=sigmoid; total time=   0.0s\n",
      "[CV] END C=5, decision_function_shape=ovo, gamma=0.8, kernel=sigmoid; total time=   0.0s\n",
      "[CV] END C=5, decision_function_shape=ovo, gamma=0.8, kernel=sigmoid; total time=   0.0s\n",
      "[CV] END C=5, decision_function_shape=ovo, gamma=0.8, kernel=sigmoid; total time=   0.0s\n",
      "[CV] END C=9, decision_function_shape=ovr, gamma=0.7000000000000001, kernel=sigmoid; total time=   0.0s\n",
      "[CV] END C=9, decision_function_shape=ovr, gamma=0.7000000000000001, kernel=sigmoid; total time=   0.0s\n",
      "[CV] END C=9, decision_function_shape=ovr, gamma=0.7000000000000001, kernel=sigmoid; total time=   0.0s\n",
      "[CV] END C=9, decision_function_shape=ovr, gamma=0.7000000000000001, kernel=sigmoid; total time=   0.0s\n",
      "[CV] END C=9, decision_function_shape=ovr, gamma=0.7000000000000001, kernel=sigmoid; total time=   0.0s\n"
     ]
    },
    {
     "data": {
      "image/png": "[encoded data removed]",
      "text/plain": [
       "<Figure size 500x500 with 2 Axes>"
      ]
     },
     "metadata": {},
     "output_type": "display_data"
    }
   ],
   "source": [
    "accuracy = classification_utils.classification(train_features, train_labels, validation_features, validation_labels)"
   ]
  },
  {
   "attachments": {},
   "cell_type": "markdown",
   "metadata": {},
   "source": [
    "### Testing"
   ]
  },
  {
   "cell_type": "code",
   "execution_count": 23,
   "metadata": {},
   "outputs": [
    {
     "name": "stdout",
     "output_type": "stream",
     "text": [
      "Accuracy:  0.815068493150685\n"
     ]
    }
   ],
   "source": [
    "from sklearn.metrics import accuracy_score\n",
    "from pickle import load\n",
    "\n",
    "mdl = load(open('Models/SVC_Model.pkl', 'rb'))\n",
    "y_pred = mdl.predict(validation_features)\n",
    "\n",
    "# Evaluate the accuracy of the model\n",
    "accuracy = accuracy_score(validation_labels, y_pred)\n",
    "print(\"Accuracy: \", accuracy)"
   ]
  }
 ],
 "metadata": {
  "kernelspec": {
   "display_name": "base",
   "language": "python",
   "name": "python3"
  },
  "language_info": {
   "codemirror_mode": {
    "name": "ipython",
    "version": 3
   },
   "file_extension": ".py",
   "mimetype": "text/x-python",
   "name": "python",
   "nbconvert_exporter": "python",
   "pygments_lexer": "ipython3",
   "version": "3.10.2"
  },
  "orig_nbformat": 4
 },
 "nbformat": 4,
 "nbformat_minor": 2
}
