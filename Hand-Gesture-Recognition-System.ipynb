{
 "cells": [
  {
   "attachments": {},
   "cell_type": "markdown",
   "metadata": {},
   "source": [
    "### **All Imports**"
   ]
  },
  {
   "cell_type": "code",
<<<<<<< HEAD
<<<<<<< HEAD
   "execution_count": 11,
=======
   "execution_count": 4,
>>>>>>> f269368f519fc729f34c852d4529d99efc9648d2
=======
   "execution_count": 4,
>>>>>>> f269368f519fc729f34c852d4529d99efc9648d2
   "metadata": {},
   "outputs": [],
   "source": [
    "import os\n",
    "import time\n",
    "from PIL import Image, ImageFilter\n",
    "from Preprocessing_Utils import preprocessing_utils\n",
    "from Feature_Extraction_Utils import feature_extraction_utils\n",
    "from Classification_Utils import classification_utils\n",
    "from pickle import load"
   ]
  },
  {
   "attachments": {},
   "cell_type": "markdown",
   "metadata": {},
   "source": [
    "### **Importing Data**"
   ]
  },
  {
   "cell_type": "code",
<<<<<<< HEAD
<<<<<<< HEAD
   "execution_count": 12,
=======
   "execution_count": 15,
>>>>>>> f269368f519fc729f34c852d4529d99efc9648d2
=======
   "execution_count": 15,
>>>>>>> f269368f519fc729f34c852d4529d99efc9648d2
   "metadata": {},
   "outputs": [
    {
     "name": "stdout",
     "output_type": "stream",
     "text": [
<<<<<<< HEAD
<<<<<<< HEAD
      "Total number of images =  10\n",
      "Number of corrupted images  =  0\n"
=======
=======
>>>>>>> f269368f519fc729f34c852d4529d99efc9648d2
      "Bad file: cannot identify image file 'data\\\\012.png'\n",
      "Bad file: cannot identify image file 'data\\\\1.png'\n",
      "Bad file: cannot identify image file 'data\\\\10.png'\n",
      "Bad file: cannot identify image file 'data\\\\101.png'\n",
      "Bad file: cannot identify image file 'data\\\\2.png'\n",
      "Bad file: cannot identify image file 'data\\\\201.png'\n",
      "Bad file: cannot identify image file 'data\\\\24.png'\n",
      "Bad file: cannot identify image file 'data\\\\9.png'\n",
      "Bad file: cannot identify image file 'data\\\\92.png'\n",
      "Total number of images =  9\n",
      "Number of corrupted images  =  9\n"
<<<<<<< HEAD
>>>>>>> f269368f519fc729f34c852d4529d99efc9648d2
=======
>>>>>>> f269368f519fc729f34c852d4529d99efc9648d2
     ]
    }
   ],
   "source": [
    "directory = 'data'\n",
    "images_paths = []\n",
    "corrupted=0\n",
    "for filename in os.listdir(directory):\n",
    "    img = os.path.join(directory, filename)\n",
    "\n",
<<<<<<< HEAD
<<<<<<< HEAD
    "    if not (img.endswith(\".JPG\") or img.endswith(\".jpg\")) and not (img.endswith(\".png\") or img.endswith(\".PNG\")):          # in case of desktop.ini file or any other file\n",
=======
    "    if not img.endswith(\".JPG\") and not img.endswith(\".png\"):          # in case of desktop.ini file or any other file\n",
>>>>>>> f269368f519fc729f34c852d4529d99efc9648d2
=======
    "    if not img.endswith(\".JPG\") and not img.endswith(\".png\"):          # in case of desktop.ini file or any other file\n",
>>>>>>> f269368f519fc729f34c852d4529d99efc9648d2
    "          continue\n",
    "\n",
    "    try:\n",
    "        temp = Image.open(img)\n",
    "    except (IOError, SyntaxError) as e:   # in case of corrupted images\n",
    "        print('Bad file:', e)\n",
    "        corrupted+=1\n",
    "        continue \n",
    "    images_paths.append(img) \n",
    "print(\"Total number of images = \", len(images_paths))\n",
    "print(\"Number of corrupted images  = \", corrupted)\n",
<<<<<<< HEAD
<<<<<<< HEAD
    "images_paths.sort(key=lambda name: int(name.split('/')[-1].split('\\\\')[-1].split('.')[0]) ) # sort images according to their names"
=======
    "images_paths.sort(key=lambda name: int(name.split('/')[-1].split('\\\\')[-1].split('.')[0]) ) # sort images according to their names\n"
>>>>>>> f269368f519fc729f34c852d4529d99efc9648d2
=======
    "images_paths.sort(key=lambda name: int(name.split('/')[-1].split('\\\\')[-1].split('.')[0]) ) # sort images according to their names\n"
>>>>>>> f269368f519fc729f34c852d4529d99efc9648d2
   ]
  },
  {
   "attachments": {},
   "cell_type": "markdown",
   "metadata": {},
   "source": [
    "### **Preprocessing, Feature Extraction, and Predictions**"
   ]
  },
  {
   "cell_type": "code",
<<<<<<< HEAD
<<<<<<< HEAD
   "execution_count": 17,
   "metadata": {},
   "outputs": [],
   "source": [
    "mdl = load(open('Models/SVC_Model94.pkl', 'rb'))\n",
=======
=======
>>>>>>> f269368f519fc729f34c852d4529d99efc9648d2
   "execution_count": 11,
   "metadata": {},
   "outputs": [],
   "source": [
    "mdl = load(open('Models/SVC_Model.pkl', 'rb'))\n",
<<<<<<< HEAD
>>>>>>> f269368f519fc729f34c852d4529d99efc9648d2
=======
>>>>>>> f269368f519fc729f34c852d4529d99efc9648d2
    "\n",
    "predictions = []\n",
    "elapsed_time = []\n",
    "for img_path in images_paths:\n",
    "    start = time.time()\n",
    "\n",
    "    resized, gray, norm = preprocessing_utils.image_preprocessing(img_path)\n",
    "    segmented_img = preprocessing_utils.image_segmentation(resized)\n",
    "    noise_removal = preprocessing_utils.morphological_operations(segmented_img)\n",
    "    edges = preprocessing_utils.canny_edge_detection(noise_removal)\n",
    "    features = feature_extraction_utils.EOH(edges)\n",
    "    y_pred = mdl.predict([features])\n",
    "    \n",
    "    end = time.time()\n",
    "\n",
    "    predictions.append(y_pred)\n",
    "    elapsed_time.append(end - start)\n"
   ]
  },
  {
   "attachments": {},
   "cell_type": "markdown",
   "metadata": {},
   "source": [
    "### **Output Files**"
   ]
  },
  {
   "cell_type": "code",
<<<<<<< HEAD
<<<<<<< HEAD
   "execution_count": 18,
=======
   "execution_count": 23,
>>>>>>> f269368f519fc729f34c852d4529d99efc9648d2
=======
   "execution_count": 23,
>>>>>>> f269368f519fc729f34c852d4529d99efc9648d2
   "metadata": {},
   "outputs": [],
   "source": [
    "file1 = open(\"results.txt\",\"w\")\n",
    "for i in range(len(predictions)):\n",
    "    file1.write(predictions[i][0] + \"\\n\")\n",
    "file1.close()"
   ]
  },
  {
   "cell_type": "code",
<<<<<<< HEAD
<<<<<<< HEAD
   "execution_count": 19,
=======
   "execution_count": 15,
>>>>>>> f269368f519fc729f34c852d4529d99efc9648d2
=======
   "execution_count": 15,
>>>>>>> f269368f519fc729f34c852d4529d99efc9648d2
   "metadata": {},
   "outputs": [],
   "source": [
    "file2 = open(\"time.txt\",\"w\")\n",
    "for i in range(len(elapsed_time)):\n",
    "    file2.write(str(round(elapsed_time[i], 3)) + \"\\n\")\n",
    "file2.close()"
   ]
  },
  {
   "attachments": {},
   "cell_type": "markdown",
   "metadata": {},
   "source": [
    "### **Generating Python Scripts**"
   ]
  },
  {
   "cell_type": "code",
<<<<<<< HEAD
<<<<<<< HEAD
   "execution_count": 20,
=======
   "execution_count": 24,
>>>>>>> f269368f519fc729f34c852d4529d99efc9648d2
=======
   "execution_count": 24,
>>>>>>> f269368f519fc729f34c852d4529d99efc9648d2
   "metadata": {},
   "outputs": [],
   "source": [
    "def create_py():\n",
    "    !jupyter nbconvert --to script Hand-Gesture-Recognition-System.ipynb"
   ]
  },
  {
   "cell_type": "code",
<<<<<<< HEAD
<<<<<<< HEAD
   "execution_count": 21,
=======
   "execution_count": 25,
>>>>>>> f269368f519fc729f34c852d4529d99efc9648d2
=======
   "execution_count": 25,
>>>>>>> f269368f519fc729f34c852d4529d99efc9648d2
   "metadata": {},
   "outputs": [
    {
     "name": "stderr",
     "output_type": "stream",
     "text": [
      "[NbConvertApp] Converting notebook Hand-Gesture-Recognition-System.ipynb to script\n",
<<<<<<< HEAD
<<<<<<< HEAD
      "[NbConvertApp] Writing 2355 bytes to Hand-Gesture-Recognition-System.py\n"
=======
      "[NbConvertApp] Writing 2250 bytes to Hand-Gesture-Recognition-System.py\n"
>>>>>>> f269368f519fc729f34c852d4529d99efc9648d2
=======
      "[NbConvertApp] Writing 2250 bytes to Hand-Gesture-Recognition-System.py\n"
>>>>>>> f269368f519fc729f34c852d4529d99efc9648d2
     ]
    }
   ],
   "source": [
    "if __name__ == '__main__':\n",
    "    create_py()"
   ]
  }
 ],
 "metadata": {
  "kernelspec": {
   "display_name": "Python 3",
   "language": "python",
   "name": "python3"
  },
  "language_info": {
   "codemirror_mode": {
    "name": "ipython",
    "version": 3
   },
   "file_extension": ".py",
   "mimetype": "text/x-python",
   "name": "python",
   "nbconvert_exporter": "python",
   "pygments_lexer": "ipython3",
<<<<<<< HEAD
<<<<<<< HEAD
   "version": "3.10.2"
=======
   "version": "3.10.11"
>>>>>>> f269368f519fc729f34c852d4529d99efc9648d2
=======
   "version": "3.10.11"
>>>>>>> f269368f519fc729f34c852d4529d99efc9648d2
  },
  "orig_nbformat": 4
 },
 "nbformat": 4,
 "nbformat_minor": 2
}
